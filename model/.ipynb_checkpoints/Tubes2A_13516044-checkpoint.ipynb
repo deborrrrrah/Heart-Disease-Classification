{
 "cells": [
  {
   "cell_type": "markdown",
   "metadata": {},
   "source": [
    "<br><center style=\"font-size:36px; font-weight:bold;\">Tugas Besar 2</center><br>\n",
    "<center style=\"font-size:25px;\">IF3170 - Artificial Intelligence</center><br><br><br>\n",
    "<center style=\"font-size:20px;\">hani sendiri</center><br>\n",
    "<center style=\"font-size:18px\">Sekar Annisa Ayuningtyas - 13516044</center><br>\n",
    "<center style=\"font-size:18px\">Hani'ah Wafa - 13516053</center><br>\n",
    "<center style=\"font-size:18px\">Dinda Yora Islami - 13516067</center><br>\n",
    "<center style=\"font-size:18px\">Muhammad Alif Arifin - 13516078</center><br>\n",
    "<center style=\"font-size:18px\">Deborah Aprilia Josephine - 13516152</center>"
   ]
  },
  {
   "cell_type": "code",
   "execution_count": 1,
   "metadata": {},
   "outputs": [],
   "source": [
    "# library\n",
    "import pandas as pd\n",
    "import numpy as np\n",
    "import copy\n",
    "\n",
    "# model\n",
    "from sklearn.naive_bayes import GaussianNB\n",
    "from sklearn.tree import DecisionTreeClassifier\n",
    "from sklearn.neural_network import MLPClassifier\n",
    "from sklearn.neighbors import KNeighborsClassifier\n",
    "\n",
    "# plot\n",
    "import matplotlib.pyplot as plt\n",
    "import seaborn as sns\n",
    "\n",
    "# count z-value\n",
    "from scipy import stats\n",
    "\n",
    "# save model\n",
    "from sklearn.externals import joblib\n",
    "\n",
    "# count std\n",
    "import statistics\n",
    "\n",
    "# feature selection\n",
    "from sklearn.feature_selection import SelectKBest, chi2\n",
    "\n",
    "# metrics\n",
    "from sklearn.metrics import accuracy_score, confusion_matrix, f1_score\n",
    "\n",
    "# model selection\n",
    "from sklearn.model_selection import KFold, cross_val_score"
   ]
  },
  {
   "cell_type": "code",
   "execution_count": 2,
   "metadata": {},
   "outputs": [],
   "source": [
    "# membaca data\n",
    "df = pd.read_csv('tubes2_HeartDisease_train.csv')"
   ]
  },
  {
   "cell_type": "code",
   "execution_count": 3,
   "metadata": {},
   "outputs": [
    {
     "data": {
      "text/html": [
       "<div>\n",
       "<style scoped>\n",
       "    .dataframe tbody tr th:only-of-type {\n",
       "        vertical-align: middle;\n",
       "    }\n",
       "\n",
       "    .dataframe tbody tr th {\n",
       "        vertical-align: top;\n",
       "    }\n",
       "\n",
       "    .dataframe thead th {\n",
       "        text-align: right;\n",
       "    }\n",
       "</style>\n",
       "<table border=\"1\" class=\"dataframe\">\n",
       "  <thead>\n",
       "    <tr style=\"text-align: right;\">\n",
       "      <th></th>\n",
       "      <th>Column1</th>\n",
       "      <th>Column2</th>\n",
       "      <th>Column3</th>\n",
       "      <th>Column4</th>\n",
       "      <th>Column5</th>\n",
       "      <th>Column6</th>\n",
       "      <th>Column7</th>\n",
       "      <th>Column8</th>\n",
       "      <th>Column9</th>\n",
       "      <th>Column10</th>\n",
       "      <th>Column11</th>\n",
       "      <th>Column12</th>\n",
       "      <th>Column13</th>\n",
       "      <th>Column14</th>\n",
       "    </tr>\n",
       "  </thead>\n",
       "  <tbody>\n",
       "    <tr>\n",
       "      <th>0</th>\n",
       "      <td>54</td>\n",
       "      <td>1</td>\n",
       "      <td>4</td>\n",
       "      <td>125</td>\n",
       "      <td>216</td>\n",
       "      <td>0</td>\n",
       "      <td>0</td>\n",
       "      <td>140</td>\n",
       "      <td>0</td>\n",
       "      <td>0</td>\n",
       "      <td>?</td>\n",
       "      <td>?</td>\n",
       "      <td>?</td>\n",
       "      <td>1</td>\n",
       "    </tr>\n",
       "    <tr>\n",
       "      <th>1</th>\n",
       "      <td>55</td>\n",
       "      <td>1</td>\n",
       "      <td>4</td>\n",
       "      <td>158</td>\n",
       "      <td>217</td>\n",
       "      <td>0</td>\n",
       "      <td>0</td>\n",
       "      <td>110</td>\n",
       "      <td>1</td>\n",
       "      <td>2.5</td>\n",
       "      <td>2</td>\n",
       "      <td>?</td>\n",
       "      <td>?</td>\n",
       "      <td>1</td>\n",
       "    </tr>\n",
       "    <tr>\n",
       "      <th>2</th>\n",
       "      <td>54</td>\n",
       "      <td>0</td>\n",
       "      <td>3</td>\n",
       "      <td>135</td>\n",
       "      <td>304</td>\n",
       "      <td>1</td>\n",
       "      <td>0</td>\n",
       "      <td>170</td>\n",
       "      <td>0</td>\n",
       "      <td>0</td>\n",
       "      <td>1</td>\n",
       "      <td>0</td>\n",
       "      <td>3</td>\n",
       "      <td>0</td>\n",
       "    </tr>\n",
       "    <tr>\n",
       "      <th>3</th>\n",
       "      <td>48</td>\n",
       "      <td>0</td>\n",
       "      <td>3</td>\n",
       "      <td>120</td>\n",
       "      <td>195</td>\n",
       "      <td>0</td>\n",
       "      <td>0</td>\n",
       "      <td>125</td>\n",
       "      <td>0</td>\n",
       "      <td>0</td>\n",
       "      <td>?</td>\n",
       "      <td>?</td>\n",
       "      <td>?</td>\n",
       "      <td>0</td>\n",
       "    </tr>\n",
       "    <tr>\n",
       "      <th>4</th>\n",
       "      <td>50</td>\n",
       "      <td>1</td>\n",
       "      <td>4</td>\n",
       "      <td>120</td>\n",
       "      <td>0</td>\n",
       "      <td>0</td>\n",
       "      <td>1</td>\n",
       "      <td>156</td>\n",
       "      <td>1</td>\n",
       "      <td>0</td>\n",
       "      <td>1</td>\n",
       "      <td>?</td>\n",
       "      <td>6</td>\n",
       "      <td>3</td>\n",
       "    </tr>\n",
       "  </tbody>\n",
       "</table>\n",
       "</div>"
      ],
      "text/plain": [
       "   Column1  Column2  Column3 Column4 Column5 Column6 Column7 Column8 Column9  \\\n",
       "0       54        1        4     125     216       0       0     140       0   \n",
       "1       55        1        4     158     217       0       0     110       1   \n",
       "2       54        0        3     135     304       1       0     170       0   \n",
       "3       48        0        3     120     195       0       0     125       0   \n",
       "4       50        1        4     120       0       0       1     156       1   \n",
       "\n",
       "  Column10 Column11 Column12 Column13  Column14  \n",
       "0        0        ?        ?        ?         1  \n",
       "1      2.5        2        ?        ?         1  \n",
       "2        0        1        0        3         0  \n",
       "3        0        ?        ?        ?         0  \n",
       "4        0        1        ?        6         3  "
      ]
     },
     "execution_count": 3,
     "metadata": {},
     "output_type": "execute_result"
    }
   ],
   "source": [
    "# melihat data sekilas\n",
    "df.head()"
   ]
  },
  {
   "cell_type": "code",
   "execution_count": 4,
   "metadata": {},
   "outputs": [],
   "source": [
    "# menyimpan daftar atribut\n",
    "features = list(df)"
   ]
  },
  {
   "cell_type": "markdown",
   "metadata": {},
   "source": [
    "Pengukuran kinerja dilakukan dengan accuracy"
   ]
  },
  {
   "cell_type": "markdown",
   "metadata": {},
   "source": [
    "## Penanganan yang dilakukan\n",
    "1. Mengubah '?' menjadi NaN lalu mengecek column dengan 2 kondisi\n",
    "    - Apabila NaN terlalu banyak maka di-drop\n",
    "    - Selain itu mengganti NaN dengan value\n",
    "        - Categorical data = modus\n",
    "        - Numerical data = mean/median\n",
    "2. Mencari outlier lalu membuang data tersebut. Mencari dengan:\n",
    "    - Melihat data: column 4 dan 5 terdapat outlier (data bernilai 0) maka dibuang\n",
    "    - Z-value dengan threshold = +-3 (apabila Z-value > +3 atau Z-value < - 3 (threshold) maka dibuang)\n",
    "3. Memilih atribut yang significant\n",
    "    - Menggunakan chi squared\n",
    "    - Menggunakan tree based"
   ]
  },
  {
   "cell_type": "markdown",
   "metadata": {},
   "source": [
    "#### Penanganan 1"
   ]
  },
  {
   "cell_type": "code",
   "execution_count": 5,
   "metadata": {},
   "outputs": [],
   "source": [
    "# mengganti '?' ke NaN\n",
    "df = df.replace('?', np.nan)"
   ]
  },
  {
   "cell_type": "code",
   "execution_count": 6,
   "metadata": {},
   "outputs": [
    {
     "data": {
      "text/html": [
       "<div>\n",
       "<style scoped>\n",
       "    .dataframe tbody tr th:only-of-type {\n",
       "        vertical-align: middle;\n",
       "    }\n",
       "\n",
       "    .dataframe tbody tr th {\n",
       "        vertical-align: top;\n",
       "    }\n",
       "\n",
       "    .dataframe thead th {\n",
       "        text-align: right;\n",
       "    }\n",
       "</style>\n",
       "<table border=\"1\" class=\"dataframe\">\n",
       "  <thead>\n",
       "    <tr style=\"text-align: right;\">\n",
       "      <th></th>\n",
       "      <th>Column1</th>\n",
       "      <th>Column2</th>\n",
       "      <th>Column3</th>\n",
       "      <th>Column4</th>\n",
       "      <th>Column5</th>\n",
       "      <th>Column6</th>\n",
       "      <th>Column7</th>\n",
       "      <th>Column8</th>\n",
       "      <th>Column9</th>\n",
       "      <th>Column10</th>\n",
       "      <th>Column11</th>\n",
       "      <th>Column12</th>\n",
       "      <th>Column13</th>\n",
       "      <th>Column14</th>\n",
       "    </tr>\n",
       "  </thead>\n",
       "  <tbody>\n",
       "    <tr>\n",
       "      <th>0</th>\n",
       "      <td>54</td>\n",
       "      <td>1</td>\n",
       "      <td>4</td>\n",
       "      <td>125</td>\n",
       "      <td>216</td>\n",
       "      <td>0</td>\n",
       "      <td>0</td>\n",
       "      <td>140</td>\n",
       "      <td>0</td>\n",
       "      <td>0</td>\n",
       "      <td>NaN</td>\n",
       "      <td>NaN</td>\n",
       "      <td>NaN</td>\n",
       "      <td>1</td>\n",
       "    </tr>\n",
       "    <tr>\n",
       "      <th>1</th>\n",
       "      <td>55</td>\n",
       "      <td>1</td>\n",
       "      <td>4</td>\n",
       "      <td>158</td>\n",
       "      <td>217</td>\n",
       "      <td>0</td>\n",
       "      <td>0</td>\n",
       "      <td>110</td>\n",
       "      <td>1</td>\n",
       "      <td>2.5</td>\n",
       "      <td>2</td>\n",
       "      <td>NaN</td>\n",
       "      <td>NaN</td>\n",
       "      <td>1</td>\n",
       "    </tr>\n",
       "    <tr>\n",
       "      <th>2</th>\n",
       "      <td>54</td>\n",
       "      <td>0</td>\n",
       "      <td>3</td>\n",
       "      <td>135</td>\n",
       "      <td>304</td>\n",
       "      <td>1</td>\n",
       "      <td>0</td>\n",
       "      <td>170</td>\n",
       "      <td>0</td>\n",
       "      <td>0</td>\n",
       "      <td>1</td>\n",
       "      <td>0</td>\n",
       "      <td>3</td>\n",
       "      <td>0</td>\n",
       "    </tr>\n",
       "    <tr>\n",
       "      <th>3</th>\n",
       "      <td>48</td>\n",
       "      <td>0</td>\n",
       "      <td>3</td>\n",
       "      <td>120</td>\n",
       "      <td>195</td>\n",
       "      <td>0</td>\n",
       "      <td>0</td>\n",
       "      <td>125</td>\n",
       "      <td>0</td>\n",
       "      <td>0</td>\n",
       "      <td>NaN</td>\n",
       "      <td>NaN</td>\n",
       "      <td>NaN</td>\n",
       "      <td>0</td>\n",
       "    </tr>\n",
       "    <tr>\n",
       "      <th>4</th>\n",
       "      <td>50</td>\n",
       "      <td>1</td>\n",
       "      <td>4</td>\n",
       "      <td>120</td>\n",
       "      <td>0</td>\n",
       "      <td>0</td>\n",
       "      <td>1</td>\n",
       "      <td>156</td>\n",
       "      <td>1</td>\n",
       "      <td>0</td>\n",
       "      <td>1</td>\n",
       "      <td>NaN</td>\n",
       "      <td>6</td>\n",
       "      <td>3</td>\n",
       "    </tr>\n",
       "  </tbody>\n",
       "</table>\n",
       "</div>"
      ],
      "text/plain": [
       "   Column1  Column2  Column3 Column4 Column5 Column6 Column7 Column8 Column9  \\\n",
       "0       54        1        4     125     216       0       0     140       0   \n",
       "1       55        1        4     158     217       0       0     110       1   \n",
       "2       54        0        3     135     304       1       0     170       0   \n",
       "3       48        0        3     120     195       0       0     125       0   \n",
       "4       50        1        4     120       0       0       1     156       1   \n",
       "\n",
       "  Column10 Column11 Column12 Column13  Column14  \n",
       "0        0      NaN      NaN      NaN         1  \n",
       "1      2.5        2      NaN      NaN         1  \n",
       "2        0        1        0        3         0  \n",
       "3        0      NaN      NaN      NaN         0  \n",
       "4        0        1      NaN        6         3  "
      ]
     },
     "execution_count": 6,
     "metadata": {},
     "output_type": "execute_result"
    }
   ],
   "source": [
    "# melihat head untuk memastikan sudah terganti\n",
    "df.head()"
   ]
  },
  {
   "cell_type": "code",
   "execution_count": 7,
   "metadata": {},
   "outputs": [
    {
     "name": "stdout",
     "output_type": "stream",
     "text": [
      "Shape dataframe\n",
      "(779, 14)\n",
      "Null Value pada dataframe\n",
      "Column1       0\n",
      "Column2       0\n",
      "Column3       0\n",
      "Column4      47\n",
      "Column5      24\n",
      "Column6      78\n",
      "Column7       2\n",
      "Column8      44\n",
      "Column9      44\n",
      "Column10     49\n",
      "Column11    262\n",
      "Column12    514\n",
      "Column13    408\n",
      "Column14      0\n",
      "dtype: int64\n"
     ]
    }
   ],
   "source": [
    "# menghitung jumlah NaN dan dibandingkan dengan jumlah row\n",
    "print('Shape dataframe')\n",
    "print(df.shape)\n",
    "print('Null Value pada dataframe')\n",
    "print(df.isnull().sum())"
   ]
  },
  {
   "cell_type": "markdown",
   "metadata": {},
   "source": [
    "Terlihat apabila atribut Column 12 dan 13 cukup banyak Null value-nya maka di-drop"
   ]
  },
  {
   "cell_type": "code",
   "execution_count": 8,
   "metadata": {},
   "outputs": [],
   "source": [
    "# Column 12 dan 13 terlalu banyak yang tidak diketahui maka di-drop saja\n",
    "df = df.drop(columns=['Column12', 'Column13'])"
   ]
  },
  {
   "cell_type": "code",
   "execution_count": 9,
   "metadata": {},
   "outputs": [],
   "source": [
    "# mengganti type dari object ke numeric\n",
    "object_type = ['Column4','Column5','Column6','Column7','Column8','Column9','Column10','Column11']\n",
    "df[object_type] = df[object_type].apply(pd.to_numeric, downcast='float', errors='coerce', axis=1)"
   ]
  },
  {
   "cell_type": "code",
   "execution_count": 10,
   "metadata": {},
   "outputs": [],
   "source": [
    "median_type = ['Column4', 'Column5', 'Column8']\n",
    "mode_type = ['Column6', 'Column7', 'Column9', 'Column11']\n",
    "mean_type = ['Column10']\n",
    "\n",
    "default_value = {}\n",
    "\n",
    "for feature in median_type :\n",
    "    df[feature] = df[feature].fillna(df[feature].median())\n",
    "    default_value[feature] = df[feature].median()\n",
    "    \n",
    "for feature in mode_type :\n",
    "    df[feature] = df[feature].fillna(df[feature].mode()[0])\n",
    "    default_value[feature] = df[feature].mode()[0]\n",
    "\n",
    "for feature in mean_type :\n",
    "    df[feature] = df[feature].fillna(df[feature].mean())\n",
    "    default_value[feature] = df[feature].mean()"
   ]
  },
  {
   "cell_type": "code",
   "execution_count": 11,
   "metadata": {},
   "outputs": [
    {
     "name": "stdout",
     "output_type": "stream",
     "text": [
      "Null Value pada dataframe\n",
      "Column1     0\n",
      "Column2     0\n",
      "Column3     0\n",
      "Column4     0\n",
      "Column5     0\n",
      "Column6     0\n",
      "Column7     0\n",
      "Column8     0\n",
      "Column9     0\n",
      "Column10    0\n",
      "Column11    0\n",
      "Column14    0\n",
      "dtype: int64\n"
     ]
    }
   ],
   "source": [
    "# Memastikan null value telah kosong\n",
    "print('Null Value pada dataframe')\n",
    "print(df.isnull().sum())"
   ]
  },
  {
   "cell_type": "code",
   "execution_count": 12,
   "metadata": {},
   "outputs": [],
   "source": [
    "# mengganti type sesuai dengan yang seharusnya\n",
    "float_type = ['Column10']\n",
    "int_type = ['Column4','Column5','Column6','Column7','Column8','Column9','Column11']\n",
    "\n",
    "df[float_type] = df[float_type].astype(float)\n",
    "df[int_type] = df[int_type].astype(int)"
   ]
  },
  {
   "cell_type": "code",
   "execution_count": 13,
   "metadata": {},
   "outputs": [
    {
     "name": "stdout",
     "output_type": "stream",
     "text": [
      "Tipe data\n",
      "Column1       int64\n",
      "Column2       int64\n",
      "Column3       int64\n",
      "Column4       int32\n",
      "Column5       int32\n",
      "Column6       int32\n",
      "Column7       int32\n",
      "Column8       int32\n",
      "Column9       int32\n",
      "Column10    float64\n",
      "Column11      int32\n",
      "Column14      int64\n",
      "dtype: object\n"
     ]
    }
   ],
   "source": [
    "print('Tipe data')\n",
    "print(df.dtypes)"
   ]
  },
  {
   "cell_type": "markdown",
   "metadata": {},
   "source": [
    "#### Penanganan 2"
   ]
  },
  {
   "cell_type": "code",
   "execution_count": 14,
   "metadata": {},
   "outputs": [
    {
     "data": {
      "image/png": "[encoded data removed]",
      "text/plain": [
       "<matplotlib.figure.Figure at 0x168cc6e3be0>"
      ]
     },
     "metadata": {},
     "output_type": "display_data"
    },
    {
     "data": {
      "image/png": "[encoded data removed]",
      "text/plain": [
       "<matplotlib.figure.Figure at 0x168cc7b1588>"
      ]
     },
     "metadata": {},
     "output_type": "display_data"
    },
    {
     "data": {
      "image/png": "[encoded data removed]",
      "text/plain": [
       "<matplotlib.figure.Figure at 0x168cc802198>"
      ]
     },
     "metadata": {},
     "output_type": "display_data"
    },
    {
     "data": {
      "image/png": "[encoded data removed]",
      "text/plain": [
       "<matplotlib.figure.Figure at 0x168cc8e7240>"
      ]
     },
     "metadata": {},
     "output_type": "display_data"
    },
    {
     "data": {
      "image/png": "[encoded data removed]",
      "text/plain": [
       "<matplotlib.figure.Figure at 0x168ccb67160>"
      ]
     },
     "metadata": {},
     "output_type": "display_data"
    },
    {
     "data": {
      "image/png": "[encoded data removed]",
      "text/plain": [
       "<matplotlib.figure.Figure at 0x168ccbd6128>"
      ]
     },
     "metadata": {},
     "output_type": "display_data"
    },
    {
     "data": {
      "image/png": "[encoded data removed]",
      "text/plain": [
       "<matplotlib.figure.Figure at 0x168ccb674a8>"
      ]
     },
     "metadata": {},
     "output_type": "display_data"
    },
    {
     "data": {
      "image/png": "[encoded data removed]",
      "text/plain": [
       "<matplotlib.figure.Figure at 0x168ccb5edd8>"
      ]
     },
     "metadata": {},
     "output_type": "display_data"
    },
    {
     "data": {
      "image/png": "[encoded data removed]",
      "text/plain": [
       "<matplotlib.figure.Figure at 0x168ccb17cc0>"
      ]
     },
     "metadata": {},
     "output_type": "display_data"
    },
    {
     "data": {
      "image/png": "[encoded data removed]",
      "text/plain": [
       "<matplotlib.figure.Figure at 0x168ccb86390>"
      ]
     },
     "metadata": {},
     "output_type": "display_data"
    },
    {
     "data": {
      "image/png": "[encoded data removed]",
      "text/plain": [
       "<matplotlib.figure.Figure at 0x168ccc429e8>"
      ]
     },
     "metadata": {},
     "output_type": "display_data"
    },
    {
     "data": {
      "image/png": "[encoded data removed]",
      "text/plain": [
       "<matplotlib.figure.Figure at 0x168cc86e278>"
      ]
     },
     "metadata": {},
     "output_type": "display_data"
    }
   ],
   "source": [
    "# Melihat persebaran data\n",
    "for column in list(df) :\n",
    "    fig, ax = plt.subplots(figsize=(8,4))\n",
    "    ax.scatter(df[column], df['Column14'])\n",
    "    ax.set_xlabel('Column14')\n",
    "    ax.set_ylabel(column)\n",
    "    plt.show()"
   ]
  },
  {
   "cell_type": "markdown",
   "metadata": {},
   "source": [
    "Terlihat bahwa column 4 dan 5 banyak mengandung outlier, maka row dengan nilai 0 akan dibuang"
   ]
  },
  {
   "cell_type": "code",
   "execution_count": 15,
   "metadata": {},
   "outputs": [
    {
     "data": {
      "text/plain": [
       "0    331\n",
       "1    173\n",
       "3     56\n",
       "2     55\n",
       "4     19\n",
       "Name: Column14, dtype: int64"
      ]
     },
     "execution_count": 15,
     "metadata": {},
     "output_type": "execute_result"
    }
   ],
   "source": [
    "df_clean = df[df['Column4'] > 1]\n",
    "df_clean = df_clean[df_clean['Column5'] > 1]\n",
    "\n",
    "df_clean.shape\n",
    "df_clean['Column14'].value_counts()"
   ]
  },
  {
   "cell_type": "code",
   "execution_count": 16,
   "metadata": {},
   "outputs": [
    {
     "data": {
      "image/png": "[encoded data removed]",
      "text/plain": [
       "<matplotlib.figure.Figure at 0x168cc6e3668>"
      ]
     },
     "metadata": {},
     "output_type": "display_data"
    },
    {
     "data": {
      "image/png": "[encoded data removed]",
      "text/plain": [
       "<matplotlib.figure.Figure at 0x168ccd72978>"
      ]
     },
     "metadata": {},
     "output_type": "display_data"
    },
    {
     "data": {
      "image/png": "[encoded data removed]",
      "text/plain": [
       "<matplotlib.figure.Figure at 0x168ccdd7748>"
      ]
     },
     "metadata": {},
     "output_type": "display_data"
    },
    {
     "data": {
      "image/png": "[encoded data removed]",
      "text/plain": [
       "<matplotlib.figure.Figure at 0x168ccdd72b0>"
      ]
     },
     "metadata": {},
     "output_type": "display_data"
    },
    {
     "data": {
      "image/png": "[encoded data removed]",
      "text/plain": [
       "<matplotlib.figure.Figure at 0x168cceb7208>"
      ]
     },
     "metadata": {},
     "output_type": "display_data"
    },
    {
     "data": {
      "image/png": "[encoded data removed]",
      "text/plain": [
       "<matplotlib.figure.Figure at 0x168ccea0a20>"
      ]
     },
     "metadata": {},
     "output_type": "display_data"
    },
    {
     "data": {
      "image/png": "[encoded data removed]",
      "text/plain": [
       "<matplotlib.figure.Figure at 0x168ccf0d198>"
      ]
     },
     "metadata": {},
     "output_type": "display_data"
    },
    {
     "data": {
      "image/png": "[encoded data removed]",
      "text/plain": [
       "<matplotlib.figure.Figure at 0x168ccef52e8>"
      ]
     },
     "metadata": {},
     "output_type": "display_data"
    },
    {
     "data": {
      "image/png": "[encoded data removed]",
      "text/plain": [
       "<matplotlib.figure.Figure at 0x168cce50978>"
      ]
     },
     "metadata": {},
     "output_type": "display_data"
    },
    {
     "data": {
      "image/png": "[encoded data removed]",
      "text/plain": [
       "<matplotlib.figure.Figure at 0x168ccdc6d68>"
      ]
     },
     "metadata": {},
     "output_type": "display_data"
    },
    {
     "data": {
      "image/png": "[encoded data removed]",
      "text/plain": [
       "<matplotlib.figure.Figure at 0x168ccea16d8>"
      ]
     },
     "metadata": {},
     "output_type": "display_data"
    },
    {
     "data": {
      "image/png": "[encoded data removed]",
      "text/plain": [
       "<matplotlib.figure.Figure at 0x168cc772c18>"
      ]
     },
     "metadata": {},
     "output_type": "display_data"
    }
   ],
   "source": [
    "# Melihat persebaran data untuk memastikan saja\n",
    "for column in list(df_clean) :\n",
    "    fig, ax = plt.subplots(figsize=(8,4))\n",
    "    ax.scatter(df_clean[column], df_clean['Column14'])\n",
    "    ax.set_xlabel('Column14')\n",
    "    ax.set_ylabel(column)\n",
    "    plt.show()"
   ]
  },
  {
   "cell_type": "code",
   "execution_count": 17,
   "metadata": {},
   "outputs": [],
   "source": [
    "# Menghitung z value untuk masing-masing data\n",
    "z = np.abs(stats.zscore(df_clean))\n",
    "threshold = 3"
   ]
  },
  {
   "cell_type": "code",
   "execution_count": 18,
   "metadata": {},
   "outputs": [],
   "source": [
    "# Membuang yang memiliki z >= threshold\n",
    "df_clean = df_clean[(z < threshold).all(axis=1)]"
   ]
  },
  {
   "cell_type": "code",
   "execution_count": 19,
   "metadata": {},
   "outputs": [
    {
     "name": "stdout",
     "output_type": "stream",
     "text": [
      "Dataframe shape\n",
      "(609, 12)\n",
      "0    326\n",
      "1    166\n",
      "3     51\n",
      "2     51\n",
      "4     15\n",
      "Name: Column14, dtype: int64\n"
     ]
    }
   ],
   "source": [
    "# Mengecek banyak row\n",
    "print('Dataframe shape')\n",
    "print(df_clean.shape)\n",
    "# Mengecek persebaran nilai pada Column14\n",
    "print(df_clean['Column14'].value_counts())"
   ]
  },
  {
   "cell_type": "code",
   "execution_count": 20,
   "metadata": {},
   "outputs": [
    {
     "data": {
      "image/png": "[encoded data removed]",
      "text/plain": [
       "<matplotlib.figure.Figure at 0x168cc6e3470>"
      ]
     },
     "metadata": {},
     "output_type": "display_data"
    },
    {
     "data": {
      "image/png": "[encoded data removed]",
      "text/plain": [
       "<matplotlib.figure.Figure at 0x168cce35e80>"
      ]
     },
     "metadata": {},
     "output_type": "display_data"
    },
    {
     "data": {
      "image/png": "[encoded data removed]",
      "text/plain": [
       "<matplotlib.figure.Figure at 0x168cce35ac8>"
      ]
     },
     "metadata": {},
     "output_type": "display_data"
    },
    {
     "data": {
      "image/png": "[encoded data removed]",
      "text/plain": [
       "<matplotlib.figure.Figure at 0x168cccfc550>"
      ]
     },
     "metadata": {},
     "output_type": "display_data"
    },
    {
     "data": {
      "image/png": "[encoded data removed]",
      "text/plain": [
       "<matplotlib.figure.Figure at 0x168cce18be0>"
      ]
     },
     "metadata": {},
     "output_type": "display_data"
    },
    {
     "data": {
      "image/png": "[encoded data removed]",
      "text/plain": [
       "<matplotlib.figure.Figure at 0x168ccc982b0>"
      ]
     },
     "metadata": {},
     "output_type": "display_data"
    },
    {
     "data": {
      "image/png": "[encoded data removed]",
      "text/plain": [
       "<matplotlib.figure.Figure at 0x168cc820a20>"
      ]
     },
     "metadata": {},
     "output_type": "display_data"
    },
    {
     "data": {
      "image/png": "[encoded data removed]",
      "text/plain": [
       "<matplotlib.figure.Figure at 0x168ccb52240>"
      ]
     },
     "metadata": {},
     "output_type": "display_data"
    },
    {
     "data": {
      "image/png": "[encoded data removed]",
      "text/plain": [
       "<matplotlib.figure.Figure at 0x168ccc8bdd8>"
      ]
     },
     "metadata": {},
     "output_type": "display_data"
    },
    {
     "data": {
      "image/png": "[encoded data removed]",
      "text/plain": [
       "<matplotlib.figure.Figure at 0x168ccb37a90>"
      ]
     },
     "metadata": {},
     "output_type": "display_data"
    },
    {
     "data": {
      "image/png": "[encoded data removed]",
      "text/plain": [
       "<matplotlib.figure.Figure at 0x168ccc475c0>"
      ]
     },
     "metadata": {},
     "output_type": "display_data"
    },
    {
     "data": {
      "image/png": "[encoded data removed]",
      "text/plain": [
       "<matplotlib.figure.Figure at 0x168cceb8128>"
      ]
     },
     "metadata": {},
     "output_type": "display_data"
    }
   ],
   "source": [
    "# Melihat persebaran data untuk memastikan saja\n",
    "for column in list(df_clean) :\n",
    "    fig, ax = plt.subplots(figsize=(8,4))\n",
    "    ax.scatter(df_clean[column], df_clean['Column14'])\n",
    "    ax.set_xlabel('Column14')\n",
    "    ax.set_ylabel(column)\n",
    "    plt.show()"
   ]
  },
  {
   "cell_type": "markdown",
   "metadata": {},
   "source": [
    "#### Penanganan 3"
   ]
  },
  {
   "cell_type": "code",
   "execution_count": 21,
   "metadata": {},
   "outputs": [
    {
     "data": {
      "text/html": [
       "<div>\n",
       "<style scoped>\n",
       "    .dataframe tbody tr th:only-of-type {\n",
       "        vertical-align: middle;\n",
       "    }\n",
       "\n",
       "    .dataframe tbody tr th {\n",
       "        vertical-align: top;\n",
       "    }\n",
       "\n",
       "    .dataframe thead th {\n",
       "        text-align: right;\n",
       "    }\n",
       "</style>\n",
       "<table border=\"1\" class=\"dataframe\">\n",
       "  <thead>\n",
       "    <tr style=\"text-align: right;\">\n",
       "      <th></th>\n",
       "      <th>Column1</th>\n",
       "      <th>Column2</th>\n",
       "      <th>Column3</th>\n",
       "      <th>Column4</th>\n",
       "      <th>Column5</th>\n",
       "      <th>Column6</th>\n",
       "      <th>Column7</th>\n",
       "      <th>Column8</th>\n",
       "      <th>Column9</th>\n",
       "      <th>Column10</th>\n",
       "      <th>Column11</th>\n",
       "      <th>Column14</th>\n",
       "    </tr>\n",
       "  </thead>\n",
       "  <tbody>\n",
       "    <tr>\n",
       "      <th>count</th>\n",
       "      <td>609.000000</td>\n",
       "      <td>609.000000</td>\n",
       "      <td>609.000000</td>\n",
       "      <td>609.000000</td>\n",
       "      <td>609.000000</td>\n",
       "      <td>609.000000</td>\n",
       "      <td>609.000000</td>\n",
       "      <td>609.000000</td>\n",
       "      <td>609.000000</td>\n",
       "      <td>609.000000</td>\n",
       "      <td>609.000000</td>\n",
       "      <td>609.000000</td>\n",
       "    </tr>\n",
       "    <tr>\n",
       "      <th>mean</th>\n",
       "      <td>52.852217</td>\n",
       "      <td>0.742200</td>\n",
       "      <td>3.169130</td>\n",
       "      <td>132.027915</td>\n",
       "      <td>244.571429</td>\n",
       "      <td>0.152709</td>\n",
       "      <td>0.628900</td>\n",
       "      <td>141.704433</td>\n",
       "      <td>0.348112</td>\n",
       "      <td>3.880043</td>\n",
       "      <td>1.816092</td>\n",
       "      <td>0.789819</td>\n",
       "    </tr>\n",
       "    <tr>\n",
       "      <th>std</th>\n",
       "      <td>9.583145</td>\n",
       "      <td>0.437783</td>\n",
       "      <td>0.950744</td>\n",
       "      <td>16.192638</td>\n",
       "      <td>50.362782</td>\n",
       "      <td>0.360003</td>\n",
       "      <td>0.831267</td>\n",
       "      <td>24.255995</td>\n",
       "      <td>0.476763</td>\n",
       "      <td>6.501697</td>\n",
       "      <td>0.489028</td>\n",
       "      <td>1.064605</td>\n",
       "    </tr>\n",
       "    <tr>\n",
       "      <th>min</th>\n",
       "      <td>28.000000</td>\n",
       "      <td>0.000000</td>\n",
       "      <td>1.000000</td>\n",
       "      <td>92.000000</td>\n",
       "      <td>85.000000</td>\n",
       "      <td>0.000000</td>\n",
       "      <td>0.000000</td>\n",
       "      <td>71.000000</td>\n",
       "      <td>0.000000</td>\n",
       "      <td>0.000000</td>\n",
       "      <td>1.000000</td>\n",
       "      <td>0.000000</td>\n",
       "    </tr>\n",
       "    <tr>\n",
       "      <th>25%</th>\n",
       "      <td>46.000000</td>\n",
       "      <td>0.000000</td>\n",
       "      <td>2.000000</td>\n",
       "      <td>120.000000</td>\n",
       "      <td>213.000000</td>\n",
       "      <td>0.000000</td>\n",
       "      <td>0.000000</td>\n",
       "      <td>125.000000</td>\n",
       "      <td>0.000000</td>\n",
       "      <td>0.000000</td>\n",
       "      <td>2.000000</td>\n",
       "      <td>0.000000</td>\n",
       "    </tr>\n",
       "    <tr>\n",
       "      <th>50%</th>\n",
       "      <td>54.000000</td>\n",
       "      <td>1.000000</td>\n",
       "      <td>3.000000</td>\n",
       "      <td>130.000000</td>\n",
       "      <td>238.000000</td>\n",
       "      <td>0.000000</td>\n",
       "      <td>0.000000</td>\n",
       "      <td>140.000000</td>\n",
       "      <td>0.000000</td>\n",
       "      <td>1.000000</td>\n",
       "      <td>2.000000</td>\n",
       "      <td>0.000000</td>\n",
       "    </tr>\n",
       "    <tr>\n",
       "      <th>75%</th>\n",
       "      <td>59.000000</td>\n",
       "      <td>1.000000</td>\n",
       "      <td>4.000000</td>\n",
       "      <td>140.000000</td>\n",
       "      <td>275.000000</td>\n",
       "      <td>0.000000</td>\n",
       "      <td>1.000000</td>\n",
       "      <td>160.000000</td>\n",
       "      <td>1.000000</td>\n",
       "      <td>3.937396</td>\n",
       "      <td>2.000000</td>\n",
       "      <td>1.000000</td>\n",
       "    </tr>\n",
       "    <tr>\n",
       "      <th>max</th>\n",
       "      <td>77.000000</td>\n",
       "      <td>1.000000</td>\n",
       "      <td>4.000000</td>\n",
       "      <td>180.000000</td>\n",
       "      <td>412.000000</td>\n",
       "      <td>1.000000</td>\n",
       "      <td>2.000000</td>\n",
       "      <td>202.000000</td>\n",
       "      <td>1.000000</td>\n",
       "      <td>29.000000</td>\n",
       "      <td>3.000000</td>\n",
       "      <td>4.000000</td>\n",
       "    </tr>\n",
       "  </tbody>\n",
       "</table>\n",
       "</div>"
      ],
      "text/plain": [
       "          Column1     Column2     Column3     Column4     Column5     Column6  \\\n",
       "count  609.000000  609.000000  609.000000  609.000000  609.000000  609.000000   \n",
       "mean    52.852217    0.742200    3.169130  132.027915  244.571429    0.152709   \n",
       "std      9.583145    0.437783    0.950744   16.192638   50.362782    0.360003   \n",
       "min     28.000000    0.000000    1.000000   92.000000   85.000000    0.000000   \n",
       "25%     46.000000    0.000000    2.000000  120.000000  213.000000    0.000000   \n",
       "50%     54.000000    1.000000    3.000000  130.000000  238.000000    0.000000   \n",
       "75%     59.000000    1.000000    4.000000  140.000000  275.000000    0.000000   \n",
       "max     77.000000    1.000000    4.000000  180.000000  412.000000    1.000000   \n",
       "\n",
       "          Column7     Column8     Column9    Column10    Column11    Column14  \n",
       "count  609.000000  609.000000  609.000000  609.000000  609.000000  609.000000  \n",
       "mean     0.628900  141.704433    0.348112    3.880043    1.816092    0.789819  \n",
       "std      0.831267   24.255995    0.476763    6.501697    0.489028    1.064605  \n",
       "min      0.000000   71.000000    0.000000    0.000000    1.000000    0.000000  \n",
       "25%      0.000000  125.000000    0.000000    0.000000    2.000000    0.000000  \n",
       "50%      0.000000  140.000000    0.000000    1.000000    2.000000    0.000000  \n",
       "75%      1.000000  160.000000    1.000000    3.937396    2.000000    1.000000  \n",
       "max      2.000000  202.000000    1.000000   29.000000    3.000000    4.000000  "
      ]
     },
     "execution_count": 21,
     "metadata": {},
     "output_type": "execute_result"
    }
   ],
   "source": [
    "# Menggunakan chi squared untuk menentukan atribut yang paling penting\n",
    "# Melihat deskripsi data dan memastikan tidak ada yang negatif\n",
    "df_clean.describe()"
   ]
  },
  {
   "cell_type": "code",
   "execution_count": 22,
   "metadata": {},
   "outputs": [],
   "source": [
    "df_X = df_clean.drop(columns=['Column14'])\n",
    "df_y = df_clean['Column14']"
   ]
  },
  {
   "cell_type": "code",
   "execution_count": 23,
   "metadata": {},
   "outputs": [
    {
     "name": "stdout",
     "output_type": "stream",
     "text": [
      "Daftar features\n",
      "['Column1', 'Column2', 'Column3', 'Column4', 'Column5', 'Column6', 'Column7', 'Column8', 'Column9', 'Column10', 'Column11']\n",
      "Nilai chi2\n",
      "(array([176.48669525,  15.17741138,  37.54151114,  32.21896859,\n",
      "        78.44310508,  20.56504346,  28.6778807 , 376.98521773,\n",
      "       100.8210359 , 499.16817699,   6.31248291]), array([4.23620447e-037, 4.34705080e-003, 1.39311735e-007, 1.72574564e-006,\n",
      "       3.72181679e-016, 3.86156840e-004, 9.08809143e-006, 2.60790860e-080,\n",
      "       6.57721749e-021, 1.01382054e-106, 1.76995621e-001]))\n"
     ]
    }
   ],
   "source": [
    "print('Daftar features')\n",
    "print(list(df_X))\n",
    "print('Nilai chi2')\n",
    "print(chi2(df_X, df_y))"
   ]
  },
  {
   "cell_type": "markdown",
   "metadata": {},
   "source": [
    "Berdasarkan perhitungan didapatkan ranking dari feature<br>\n",
    "Feature ranking\n",
    "1. Column10 = 499\n",
    "2. Column8 = 376\n",
    "3. Column1 = 176\n",
    "4. Column9 = 100\n",
    "5. Column5 = 78\n",
    "6. Column3 = 37\n",
    "7. Column4 = 32\n",
    "8. Column7 = 28<br>\n",
    "dst"
   ]
  },
  {
   "cell_type": "code",
   "execution_count": 24,
   "metadata": {},
   "outputs": [
    {
     "name": "stdout",
     "output_type": "stream",
     "text": [
      "List features\n",
      "['Column1', 'Column2', 'Column3', 'Column4', 'Column5', 'Column6', 'Column7', 'Column8', 'Column9', 'Column10', 'Column11']\n",
      "Value (semakin besar semakin baik)\n",
      "[0.14323182 0.03044021 0.13599225 0.10023639 0.22117083 0.03422184\n",
      " 0.05530338 0.10063342 0.04751149 0.10393238 0.02732599]\n",
      "\n",
      "Feature ranking:\n",
      "1. feature 4 (0.221171)\n",
      "2. feature 0 (0.143232)\n",
      "3. feature 2 (0.135992)\n",
      "4. feature 9 (0.103932)\n",
      "5. feature 7 (0.100633)\n",
      "6. feature 3 (0.100236)\n",
      "7. feature 6 (0.055303)\n",
      "8. feature 8 (0.047511)\n",
      "9. feature 5 (0.034222)\n",
      "10. feature 1 (0.030440)\n",
      "11. feature 10 (0.027326)\n"
     ]
    },
    {
     "data": {
      "image/png": "[encoded data removed]",
      "text/plain": [
       "<matplotlib.figure.Figure at 0x168cc803cf8>"
      ]
     },
     "metadata": {},
     "output_type": "display_data"
    }
   ],
   "source": [
    "# Melakukan train dengan decision tree lalu melihat pemilihan atributnya\n",
    "dt = DecisionTreeClassifier(criterion='entropy')\n",
    "dt.fit(df_X, df_y)\n",
    "\n",
    "feature_importances = dt.feature_importances_\n",
    "indices = np.argsort(feature_importances)[::-1]\n",
    "\n",
    "print('List features')\n",
    "print(list(df_X))\n",
    "print('Value (semakin besar semakin baik)')\n",
    "print(feature_importances)\n",
    "print()\n",
    "\n",
    "print(\"Feature ranking:\")\n",
    "for f in range(df_X.shape[1]):\n",
    "    print(\"%d. feature %d (%f)\" % (f + 1, indices[f], feature_importances[indices[f]]))\n",
    "\n",
    "# Melakukan plot\n",
    "plt.figure(1, figsize=(7, 6))\n",
    "plt.title(\"Feature importances\")\n",
    "plt.bar(range(df_X.shape[1]), feature_importances[indices], color=\"b\", align=\"center\")\n",
    "plt.xticks(range(df_X.shape[1]), df_X.columns[indices],rotation=90)\n",
    "plt.xlim([-1, df_X.shape[1]])\n",
    "plt.show()"
   ]
  },
  {
   "cell_type": "code",
   "execution_count": 25,
   "metadata": {},
   "outputs": [
    {
     "name": "stdout",
     "output_type": "stream",
     "text": [
      "Chi Squared Attribute Selection\n",
      "\n",
      "Cross validation average\n",
      "List Attribute : ['Column10']\n",
      "Naive Bayes   : 0.5272822199714975 0.024785838848779402\n",
      "ANN           : 0.5249388551031201 0.04422176665622777\n",
      "Decision Tree : 0.5712584392842098 0.03727006032796841\n",
      "KNN           : 0.48120315398990765 0.13120189820403075\n",
      "\n",
      "Cross validation average\n",
      "List Attribute : ['Column10', 'Column8']\n",
      "Naive Bayes   : 0.5518139419327951 0.012716573819248131\n",
      "ANN           : 0.5212695870940853 0.09607168400899234\n",
      "Decision Tree : 0.5375446612634335 0.049700244961320375\n",
      "KNN           : 0.5521556167035646 0.051735454737898395\n",
      "\n",
      "Cross validation average\n",
      "List Attribute : ['Column10', 'Column8', 'Column1']\n",
      "Naive Bayes   : 0.5403519486819816 0.03454611989230022\n",
      "ANN           : 0.5234872870152103 0.06320297058046437\n",
      "Decision Tree : 0.47616834929505514 0.04942193674668108\n",
      "KNN           : 0.5033569612750853 0.041024540029810264\n",
      "\n",
      "Cross validation average\n",
      "List Attribute : ['Column10', 'Column8', 'Column1', 'Column9']\n",
      "Naive Bayes   : 0.6009201424678898 0.03929213718539089\n",
      "ANN           : 0.5576276508259463 0.04986565279586696\n",
      "Decision Tree : 0.5228177742025115 0.08779872546052682\n",
      "KNN           : 0.5099725982351728 0.03749096250535891\n",
      "\n",
      "Cross validation average\n",
      "List Attribute : ['Column10', 'Column8', 'Column1', 'Column9', 'Column5']\n",
      "Naive Bayes   : 0.6057904609479335 0.03777721886376315\n",
      "ANN           : 0.4686580165637409 0.10585630111597694\n",
      "Decision Tree : 0.514896008859988 0.06688800807665043\n",
      "KNN           : 0.5139951649875862 0.05039777326754723\n",
      "\n",
      "Cross validation average\n",
      "List Attribute : ['Column10', 'Column8', 'Column1', 'Column9', 'Column5', 'Column3']\n",
      "Naive Bayes   : 0.5960285507174932 0.03315762678188959\n",
      "ANN           : 0.5681307503652449 0.04509822115297203\n",
      "Decision Tree : 0.49756473572408116 0.043192315016319496\n",
      "KNN           : 0.5154756529591553 0.048563815725926565\n",
      "\n",
      "Cross validation average\n",
      "List Attribute : ['Column10', 'Column8', 'Column1', 'Column9', 'Column5', 'Column3', 'Column4']\n",
      "Naive Bayes   : 0.5926174469386658 0.02530823926109214\n",
      "ANN           : 0.5089376725389669 0.09513354963283242\n",
      "Decision Tree : 0.5223323683101937 0.06454115183398085\n",
      "KNN           : 0.5009469196192491 0.03097394749237733\n",
      "\n",
      "Cross validation average\n",
      "List Attribute : ['Column10', 'Column8', 'Column1', 'Column9', 'Column5', 'Column3', 'Column4', 'Column7']\n",
      "Naive Bayes   : 0.5927950976525738 0.04106459007423122\n",
      "ANN           : 0.48966851511172466 0.1186438042455636\n",
      "Decision Tree : 0.5305292996934633 0.03484633390624054\n",
      "KNN           : 0.5009469196192491 0.03097394749237733\n",
      "\n",
      "Cross validation average\n",
      "List Attribute : ['Column10', 'Column8', 'Column1', 'Column9', 'Column5', 'Column3', 'Column4', 'Column7', 'Column6']\n",
      "Naive Bayes   : 0.5950033583477489 0.03691844878879444\n",
      "ANN           : 0.5326168951500865 0.090730180997163\n",
      "Decision Tree : 0.5225680688632146 0.04228824457252642\n",
      "KNN           : 0.5009469196192491 0.03097394749237733\n",
      "\n",
      "Cross validation average\n",
      "List Attribute : ['Column10', 'Column8', 'Column1', 'Column9', 'Column5', 'Column3', 'Column4', 'Column7', 'Column6', 'Column2']\n",
      "Naive Bayes   : 0.5965609006534074 0.0358624392699817\n",
      "ANN           : 0.5287701864989378 0.10010580108813151\n",
      "Decision Tree : 0.5078614747376065 0.032338708709376746\n",
      "KNN           : 0.5009469196192491 0.03097394749237733\n",
      "\n",
      "Cross validation average\n",
      "List Attribute : ['Column10', 'Column8', 'Column1', 'Column9', 'Column5', 'Column3', 'Column4', 'Column7', 'Column6', 'Column2', 'Column11']\n",
      "Naive Bayes   : 0.6196360968324535 0.037321843649050244\n",
      "ANN           : 0.5157968667371761 0.09714766473083408\n",
      "Decision Tree : 0.5321496394607823 0.055172511131426974\n",
      "KNN           : 0.5009469196192491 0.03097394749237733\n"
     ]
    }
   ],
   "source": [
    "# Dengan hasil chi squared\n",
    "chi_squared_features = ['Column10', 'Column8', 'Column1', 'Column9', 'Column5', 'Column3', 'Column4', \n",
    "                        'Column7', 'Column6', 'Column2', 'Column11']\n",
    "df_X2_features = []\n",
    "\n",
    "max_acc_nb = 0\n",
    "max_acc_ann = 0\n",
    "max_acc_dt = 0\n",
    "max_acc_knn = 0\n",
    "\n",
    "max_features_nb = []\n",
    "max_features_ann = []\n",
    "max_features_dt = []\n",
    "max_features_knn = []\n",
    "\n",
    "print('Chi Squared Attribute Selection')\n",
    "\n",
    "for feature in chi_squared_features :\n",
    "    print(\"\\nCross validation average\")\n",
    "    df_X2_features.append(feature)\n",
    "    df_X2 = df_clean[df_X2_features]\n",
    "    print(\"List Attribute : \" + str(df_X2_features))\n",
    "    \n",
    "    model = GaussianNB()      \n",
    "    list_acc = cross_val_score(model, df_X2, df_y, cv=10)\n",
    "    print(\"Naive Bayes   : \" + str(list_acc.mean()) + ' ' + str(statistics.stdev(list_acc)))\n",
    "    if (list_acc.mean() > max_acc_nb) :\n",
    "        max_acc_nb = list_acc.mean()\n",
    "        max_features_nb = copy.deepcopy(df_X2_features)\n",
    "\n",
    "    model = MLPClassifier()\n",
    "    list_acc = cross_val_score(model, df_X2, df_y, cv=10)\n",
    "    print(\"ANN           : \" + str(list_acc.mean()) + ' ' + str(statistics.stdev(list_acc)))\n",
    "    if (list_acc.mean() > max_acc_ann) :\n",
    "        max_acc_ann = list_acc.mean()\n",
    "        max_features_ann = copy.deepcopy(df_X2_features)\n",
    "        \n",
    "    model = DecisionTreeClassifier(criterion='entropy') \n",
    "    list_acc = cross_val_score(model, df_X2, df_y, cv=10)\n",
    "    print(\"Decision Tree : \" + str(list_acc.mean()) + ' ' + str(statistics.stdev(list_acc)))\n",
    "    if (list_acc.mean() > max_acc_dt) :\n",
    "        max_acc_dt = list_acc.mean()\n",
    "        max_features_dt = copy.deepcopy(df_X2_features)\n",
    "        \n",
    "    model = KNeighborsClassifier(n_neighbors=3)\n",
    "    list_acc = cross_val_score(model, df_X2, df_y, cv=10)\n",
    "    print(\"KNN           : \" + str(list_acc.mean()) + ' ' + str(statistics.stdev(list_acc)))\n",
    "    if (list_acc.mean() > max_acc_knn) :\n",
    "        max_acc_knn = list_acc.mean()\n",
    "        max_features_knn = copy.deepcopy(df_X2_features)"
   ]
  },
  {
   "cell_type": "code",
   "execution_count": 26,
   "metadata": {},
   "outputs": [
    {
     "name": "stdout",
     "output_type": "stream",
     "text": [
      "Max Performance\n",
      "Algoritma = Naive Bayes\n",
      "> Rata-rata akurasi : 0.6196360968324535\n",
      "> Features : ['Column10', 'Column8', 'Column1', 'Column9', 'Column5', 'Column3', 'Column4', 'Column7', 'Column6', 'Column2', 'Column11']\n",
      "\n",
      "Algoritma = ANN\n",
      "> Rata-rata akurasi : 0.5681307503652449\n",
      "> Features : ['Column10', 'Column8', 'Column1', 'Column9', 'Column5', 'Column3']\n",
      "\n",
      "Algoritma = Decision Tree\n",
      "> Rata-rata akurasi : 0.5712584392842098\n",
      "> Features : ['Column10']\n",
      "\n",
      "Algoritma = KNN\n",
      "> Rata-rata akurasi : 0.5521556167035646\n",
      "> Features : ['Column10', 'Column8']\n"
     ]
    }
   ],
   "source": [
    "# Max Performance\n",
    "print(\"Max Performance\")\n",
    "print(\"Algoritma = Naive Bayes\")\n",
    "print(\"> Rata-rata akurasi : \" + str(max_acc_nb))\n",
    "print(\"> Features : \" + str(max_features_nb))\n",
    "\n",
    "print()\n",
    "print(\"Algoritma = ANN\")\n",
    "print(\"> Rata-rata akurasi : \" + str(max_acc_ann))\n",
    "print(\"> Features : \" + str(max_features_ann))\n",
    "\n",
    "print()\n",
    "print(\"Algoritma = Decision Tree\")\n",
    "print(\"> Rata-rata akurasi : \" + str(max_acc_dt))\n",
    "print(\"> Features : \" + str(max_features_dt))\n",
    "\n",
    "print()\n",
    "print(\"Algoritma = KNN\")\n",
    "print(\"> Rata-rata akurasi : \" + str(max_acc_knn))\n",
    "print(\"> Features : \" + str(max_features_knn))"
   ]
  },
  {
   "cell_type": "code",
   "execution_count": 27,
   "metadata": {},
   "outputs": [
    {
     "name": "stdout",
     "output_type": "stream",
     "text": [
      "Tree Approach Attribute Selection\n",
      "\n",
      "Cross validation average\n",
      "List Attribute : ['Column5']\n",
      "Naive Bayes   : 0.5240272835644311 0.018814220061945476\n",
      "ANN           : 0.4834772791949377 0.10943544662984575\n",
      "Decision Tree : 0.4368717732972421 0.058908516763887336\n",
      "KNN           : 0.4799845555216951 0.047332051493297195\n",
      "\n",
      "Cross validation average\n",
      "List Attribute : ['Column5', 'Column1']\n",
      "Naive Bayes   : 0.5224280069956708 0.03837790647811159\n",
      "ANN           : 0.4721179410275256 0.1401025826425562\n",
      "Decision Tree : 0.43294194623954685 0.07142352238576892\n",
      "KNN           : 0.4693467439432101 0.05053185939443833\n",
      "\n",
      "Cross validation average\n",
      "List Attribute : ['Column5', 'Column1', 'Column3']\n",
      "Naive Bayes   : 0.5861342252328157 0.018203181424018628\n",
      "ANN           : 0.4340047274556552 0.12001808534856567\n",
      "Decision Tree : 0.503756475813174 0.07719302780444036\n",
      "KNN           : 0.4841909210891915 0.04402526316485858\n",
      "\n",
      "Cross validation average\n",
      "List Attribute : ['Column5', 'Column1', 'Column3', 'Column10']\n",
      "Naive Bayes   : 0.5508048550672678 0.04947233146940326\n",
      "ANN           : 0.5216199308275596 0.06998583226086012\n",
      "Decision Tree : 0.49401604892488066 0.047226799334191515\n",
      "KNN           : 0.48054163791017207 0.048172173094360234\n",
      "\n",
      "Cross validation average\n",
      "List Attribute : ['Column5', 'Column1', 'Column3', 'Column10', 'Column8']\n",
      "Naive Bayes   : 0.5713301157803692 0.03518488790020133\n",
      "ANN           : 0.4751150073048966 0.17492392811381596\n",
      "Decision Tree : 0.4727338855327197 0.041059660743626304\n",
      "KNN           : 0.5155260561849617 0.04616061529098826\n",
      "\n",
      "Cross validation average\n",
      "List Attribute : ['Column5', 'Column1', 'Column3', 'Column10', 'Column8', 'Column4']\n",
      "Naive Bayes   : 0.579558655966263 0.04163775980636556\n",
      "ANN           : 0.5309707585664477 0.06993511160430364\n",
      "Decision Tree : 0.4903579287257213 0.052541347737405916\n",
      "KNN           : 0.5009469196192491 0.03097394749237733\n",
      "\n",
      "Cross validation average\n",
      "List Attribute : ['Column5', 'Column1', 'Column3', 'Column10', 'Column8', 'Column4', 'Column7']\n",
      "Naive Bayes   : 0.5730173844212998 0.041231244173917846\n",
      "ANN           : 0.5440696172323853 0.0745117560620189\n",
      "Decision Tree : 0.5030200761412221 0.05043126078665811\n",
      "KNN           : 0.5009469196192491 0.03097394749237733\n",
      "\n",
      "Cross validation average\n",
      "List Attribute : ['Column5', 'Column1', 'Column3', 'Column10', 'Column8', 'Column4', 'Column7', 'Column9']\n",
      "Naive Bayes   : 0.5927950976525738 0.04106459007423122\n",
      "ANN           : 0.5535889925741022 0.07287556651342594\n",
      "Decision Tree : 0.5159976673627978 0.0536605668727819\n",
      "KNN           : 0.5009469196192491 0.03097394749237733\n",
      "\n",
      "Cross validation average\n",
      "List Attribute : ['Column5', 'Column1', 'Column3', 'Column10', 'Column8', 'Column4', 'Column7', 'Column9', 'Column6']\n",
      "Naive Bayes   : 0.5950033583477489 0.03691844878879444\n",
      "ANN           : 0.5616793475338132 0.05195367063936916\n",
      "Decision Tree : 0.5259023283797472 0.05072854482088853\n",
      "KNN           : 0.5009469196192491 0.03097394749237733\n",
      "\n",
      "Cross validation average\n",
      "List Attribute : ['Column5', 'Column1', 'Column3', 'Column10', 'Column8', 'Column4', 'Column7', 'Column9', 'Column6', 'Column2']\n",
      "Naive Bayes   : 0.5965609006534074 0.0358624392699817\n",
      "ANN           : 0.5523307885703018 0.06652467328904205\n",
      "Decision Tree : 0.5205791931450492 0.03309336953734979\n",
      "KNN           : 0.5009469196192491 0.03097394749237733\n",
      "\n",
      "Cross validation average\n",
      "List Attribute : ['Column5', 'Column1', 'Column3', 'Column10', 'Column8', 'Column4', 'Column7', 'Column9', 'Column6', 'Column2', 'Column11']\n",
      "Naive Bayes   : 0.6196360968324535 0.037321843649050244\n",
      "ANN           : 0.5618877947727415 0.07589965194197391\n",
      "Decision Tree : 0.5156165271043032 0.05480176279873079\n",
      "KNN           : 0.5009469196192491 0.03097394749237733\n"
     ]
    }
   ],
   "source": [
    "# Dengan pendekatan decision tree\n",
    "indices\n",
    "\n",
    "df_X2_features = []\n",
    "\n",
    "max_acc_nb = 0\n",
    "max_acc_ann = 0\n",
    "max_acc_dt = 0\n",
    "max_acc_knn = 0\n",
    "\n",
    "max_features_nb = []\n",
    "max_features_ann = []\n",
    "max_features_dt = []\n",
    "max_features_knn = []\n",
    "\n",
    "print('Tree Approach Attribute Selection')\n",
    "\n",
    "for index in indices :\n",
    "    print(\"\\nCross validation average\")\n",
    "    df_X2_features.append(list(df_X)[index])\n",
    "    df_X2 = df_clean[df_X2_features]\n",
    "    \n",
    "    print(\"List Attribute : \" + str(df_X2_features))\n",
    "    \n",
    "    model = GaussianNB()      \n",
    "    list_acc = cross_val_score(model, df_X2, df_y, cv=10)\n",
    "    print(\"Naive Bayes   : \" + str(list_acc.mean()) + ' ' + str(statistics.stdev(list_acc)))\n",
    "    if (list_acc.mean() > max_acc_nb) :\n",
    "        max_acc_nb = list_acc.mean()\n",
    "        max_features_nb = copy.deepcopy(df_X2_features)\n",
    "\n",
    "    model = MLPClassifier()\n",
    "    list_acc = cross_val_score(model, df_X2, df_y, cv=10)\n",
    "    print(\"ANN           : \" + str(list_acc.mean()) + ' ' + str(statistics.stdev(list_acc)))\n",
    "    if (list_acc.mean() > max_acc_ann) :\n",
    "        max_acc_ann = list_acc.mean()\n",
    "        max_features_ann = copy.deepcopy(df_X2_features)\n",
    "        \n",
    "    model = DecisionTreeClassifier(criterion='entropy') \n",
    "    list_acc = cross_val_score(model, df_X2, df_y, cv=10)\n",
    "    print(\"Decision Tree : \" + str(list_acc.mean()) + ' ' + str(statistics.stdev(list_acc)))\n",
    "    if (list_acc.mean() > max_acc_dt) :\n",
    "        max_acc_dt = list_acc.mean()\n",
    "        max_features_dt = copy.deepcopy(df_X2_features)\n",
    "        \n",
    "    model = KNeighborsClassifier(n_neighbors=3)\n",
    "    list_acc = cross_val_score(model, df_X2, df_y, cv=10)\n",
    "    print(\"KNN           : \" + str(list_acc.mean()) + ' ' + str(statistics.stdev(list_acc)))\n",
    "    if (list_acc.mean() > max_acc_knn) :\n",
    "        max_acc_knn = list_acc.mean()\n",
    "        max_features_knn = copy.deepcopy(df_X2_features)"
   ]
  },
  {
   "cell_type": "code",
   "execution_count": 28,
   "metadata": {},
   "outputs": [
    {
     "name": "stdout",
     "output_type": "stream",
     "text": [
      "Max Performance\n",
      "Algoritma = Naive Bayes\n",
      "> Rata-rata akurasi : 0.6196360968324535\n",
      "> Features : ['Column5', 'Column1', 'Column3', 'Column10', 'Column8', 'Column4', 'Column7', 'Column9', 'Column6', 'Column2', 'Column11']\n",
      "\n",
      "Algoritma = ANN\n",
      "> Rata-rata akurasi : 0.5618877947727415\n",
      "> Features : ['Column5', 'Column1', 'Column3', 'Column10', 'Column8', 'Column4', 'Column7', 'Column9', 'Column6', 'Column2', 'Column11']\n",
      "\n",
      "Algoritma = Decision Tree\n",
      "> Rata-rata akurasi : 0.5259023283797472\n",
      "> Features : ['Column5', 'Column1', 'Column3', 'Column10', 'Column8', 'Column4', 'Column7', 'Column9', 'Column6']\n",
      "\n",
      "Algoritma = KNN\n",
      "> Rata-rata akurasi : 0.5155260561849617\n",
      "> Features : ['Column5', 'Column1', 'Column3', 'Column10', 'Column8']\n"
     ]
    }
   ],
   "source": [
    "# Max Performance\n",
    "print(\"Max Performance\")\n",
    "print(\"Algoritma = Naive Bayes\")\n",
    "print(\"> Rata-rata akurasi : \" + str(max_acc_nb))\n",
    "print(\"> Features : \" + str(max_features_nb))\n",
    "\n",
    "print()\n",
    "print(\"Algoritma = ANN\")\n",
    "print(\"> Rata-rata akurasi : \" + str(max_acc_ann))\n",
    "print(\"> Features : \" + str(max_features_ann))\n",
    "\n",
    "print()\n",
    "print(\"Algoritma = Decision Tree\")\n",
    "print(\"> Rata-rata akurasi : \" + str(max_acc_dt))\n",
    "print(\"> Features : \" + str(max_features_dt))\n",
    "\n",
    "print()\n",
    "print(\"Algoritma = KNN\")\n",
    "print(\"> Rata-rata akurasi : \" + str(max_acc_knn))\n",
    "print(\"> Features : \" + str(max_features_knn))"
   ]
  },
  {
   "cell_type": "markdown",
   "metadata": {},
   "source": [
    "Dipilih algoritma Naive Bayes. Melakukan K-Fold pada features yang menghasilkan 3 akurasi tertinggi (dengan harapan ada ditemukan model terbaik)\n",
    "1. ['Column10', 'Column8', 'Column1', 'Column9', 'Column5', 'Column3', 'Column4', 'Column7', 'Column6', 'Column2', 'Column11']\n",
    "2. ['Column10', 'Column8', 'Column1', 'Column9', 'Column5', 'Column3', 'Column4', 'Column7', 'Column6', 'Column2']\n",
    "3. ['Column10', 'Column8', 'Column1', 'Column9', 'Column5', 'Column3', 'Column4', 'Column7', 'Column6']"
   ]
  },
  {
   "cell_type": "code",
   "execution_count": 29,
   "metadata": {},
   "outputs": [
    {
     "name": "stdout",
     "output_type": "stream",
     "text": [
      "Algoritma : Naive Bayes\n",
      "Features  : ['Column10', 'Column8', 'Column1', 'Column9', 'Column5', 'Column3', 'Column4', 'Column7', 'Column6', 'Column2', 'Column11', 'Column14']\n",
      "akurasinya sebesar = 0.6885245901639344\n",
      "akurasinya sebesar = 0.6557377049180327\n",
      "akurasinya sebesar = 0.639344262295082\n",
      "akurasinya sebesar = 0.5081967213114754\n",
      "akurasinya sebesar = 0.5737704918032787\n",
      "akurasinya sebesar = 0.5409836065573771\n",
      "akurasinya sebesar = 0.6229508196721312\n",
      "akurasinya sebesar = 0.5245901639344263\n",
      "akurasinya sebesar = 0.7868852459016393\n",
      "akurasinya sebesar = 0.45\n",
      "\n",
      "Max Performance\n",
      "akurasinya sebesar = 0.7868852459016393\n"
     ]
    },
    {
     "data": {
      "text/plain": [
       "<matplotlib.axes._subplots.AxesSubplot at 0x168ccce0c50>"
      ]
     },
     "execution_count": 29,
     "metadata": {},
     "output_type": "execute_result"
    },
    {
     "data": {
      "image/png": "[encoded data removed]",
      "text/plain": [
       "<matplotlib.figure.Figure at 0x168ccd228d0>"
      ]
     },
     "metadata": {},
     "output_type": "display_data"
    }
   ],
   "source": [
    "# Membuat KFold dengan k = 10\n",
    "kf = KFold(n_splits = 10, shuffle = True, random_state = 0)\n",
    "\n",
    "max_features = ['Column10', 'Column8', 'Column1', 'Column9', 'Column5', 'Column3', 'Column4', \n",
    "                'Column7', 'Column6', 'Column2', 'Column11'] + ['Column14']\n",
    "\n",
    "df_kfold = df_clean[max_features]\n",
    "acc1_max = 0\n",
    "train1_max = []\n",
    "test1_max = []\n",
    "\n",
    "print('Algoritma : Naive Bayes')\n",
    "print('Features  : ' + str(max_features))\n",
    "\n",
    "for train, test in kf.split(df_kfold) :\n",
    "    # membuat model\n",
    "    model = GaussianNB()\n",
    "    \n",
    "    # membagi data menjadi X dan y (test dan train)\n",
    "    df_train = df_kfold.iloc[train]\n",
    "    df_test = df_kfold.iloc[test]\n",
    "    X_train = df_train.drop(['Column14'], axis = 1)\n",
    "    y_train = df_train['Column14']\n",
    "    X_test = df_test.drop(['Column14'], axis = 1)\n",
    "    y_test = df_test['Column14']\n",
    "    \n",
    "    # melakukan pemodelan\n",
    "    model.fit(X_train, y_train)\n",
    "    y_pred = model.predict(X_test)\n",
    "    print('akurasinya sebesar = ' + str(accuracy_score(y_pred, y_test)))\n",
    "    \n",
    "    if (accuracy_score(y_pred, y_test) > acc1_max) :\n",
    "        acc1_max = accuracy_score(y_pred, y_test)\n",
    "        train1_max = copy.deepcopy(train)\n",
    "        test1_max = copy.deepcopy(test)\n",
    "        \n",
    "print()\n",
    "print('Max Performance')\n",
    "model = GaussianNB()\n",
    "df_train = df_kfold.iloc[train1_max]\n",
    "df_test = df_kfold.iloc[test1_max]\n",
    "X_train = df_train.drop(['Column14'], axis = 1)\n",
    "y_train = df_train['Column14']\n",
    "X_test = df_test.drop(['Column14'], axis = 1)\n",
    "y_test = df_test['Column14']\n",
    "\n",
    "# melakukan pemodelan\n",
    "model.fit(X_train, y_train)\n",
    "y_pred = model.predict(X_test)\n",
    "print('akurasinya sebesar = ' + str(accuracy_score(y_pred, y_test)))\n",
    "cm = confusion_matrix(y_test, y_pred)\n",
    "sns.heatmap(cm, annot=True, fmt=\"d\")"
   ]
  },
  {
   "cell_type": "code",
   "execution_count": 30,
   "metadata": {},
   "outputs": [
    {
     "name": "stdout",
     "output_type": "stream",
     "text": [
      "Algoritma : Naive Bayes\n",
      "Features  : ['Column5', 'Column1', 'Column3', 'Column4', 'Column10', 'Column8', 'Column7', 'Column9', 'Column11', 'Column6', 'Column14']\n",
      "akurasinya sebesar = 0.6721311475409836\n",
      "akurasinya sebesar = 0.7049180327868853\n",
      "akurasinya sebesar = 0.6885245901639344\n",
      "akurasinya sebesar = 0.47540983606557374\n",
      "akurasinya sebesar = 0.6229508196721312\n",
      "akurasinya sebesar = 0.5409836065573771\n",
      "akurasinya sebesar = 0.6065573770491803\n",
      "akurasinya sebesar = 0.5573770491803278\n",
      "akurasinya sebesar = 0.7704918032786885\n",
      "akurasinya sebesar = 0.45\n",
      "\n",
      "Max Performance\n",
      "akurasinya sebesar = 0.7704918032786885\n"
     ]
    },
    {
     "data": {
      "text/plain": [
       "<matplotlib.axes._subplots.AxesSubplot at 0x168ccd82d30>"
      ]
     },
     "execution_count": 30,
     "metadata": {},
     "output_type": "execute_result"
    },
    {
     "data": {
      "image/png": "[encoded data removed]",
      "text/plain": [
       "<matplotlib.figure.Figure at 0x168ccd802b0>"
      ]
     },
     "metadata": {},
     "output_type": "display_data"
    }
   ],
   "source": [
    "# Membuat KFold dengan k = 10\n",
    "kf = KFold(n_splits = 10, shuffle = True, random_state = 0)\n",
    "\n",
    "max_features = ['Column5', 'Column1', 'Column3', 'Column4', 'Column10', 'Column8', \n",
    "                'Column7', 'Column9', 'Column11', 'Column6'] + ['Column14']\n",
    "\n",
    "df_kfold = df_clean[max_features]\n",
    "acc2_max = 0\n",
    "train2_max = []\n",
    "test2_max = []\n",
    "\n",
    "print('Algoritma : Naive Bayes')\n",
    "print('Features  : ' + str(max_features))\n",
    "\n",
    "for train, test in kf.split(df_kfold) :\n",
    "    # membuat model\n",
    "    model = GaussianNB()\n",
    "    \n",
    "    # membagi data menjadi X dan y (test dan train)\n",
    "    df_train = df_kfold.iloc[train]\n",
    "    df_test = df_kfold.iloc[test]\n",
    "    X_train = df_train.drop(['Column14'], axis = 1)\n",
    "    y_train = df_train['Column14']\n",
    "    X_test = df_test.drop(['Column14'], axis = 1)\n",
    "    y_test = df_test['Column14']\n",
    "    \n",
    "    # melakukan pemodelan\n",
    "    model.fit(X_train, y_train)\n",
    "    y_pred = model.predict(X_test)\n",
    "    print('akurasinya sebesar = ' + str(accuracy_score(y_pred, y_test)))\n",
    "    \n",
    "    if (accuracy_score(y_pred, y_test) > acc2_max) :\n",
    "        acc2_max = accuracy_score(y_pred, y_test)\n",
    "        train2_max = train\n",
    "        test2_max = test\n",
    "        \n",
    "print()\n",
    "print('Max Performance')\n",
    "model = GaussianNB()\n",
    "df_train = df_kfold.iloc[train2_max]\n",
    "df_test = df_kfold.iloc[test2_max]\n",
    "X_train = df_train.drop(['Column14'], axis = 1)\n",
    "y_train = df_train['Column14']\n",
    "X_test = df_test.drop(['Column14'], axis = 1)\n",
    "y_test = df_test['Column14']\n",
    "\n",
    "# melakukan pemodelan\n",
    "model.fit(X_train, y_train)\n",
    "y_pred = model.predict(X_test)\n",
    "print('akurasinya sebesar = ' + str(accuracy_score(y_pred, y_test)))\n",
    "cm = confusion_matrix(y_test, y_pred)\n",
    "sns.heatmap(cm, annot=True, fmt=\"d\")"
   ]
  },
  {
   "cell_type": "code",
   "execution_count": 31,
   "metadata": {},
   "outputs": [
    {
     "name": "stdout",
     "output_type": "stream",
     "text": [
      "Algoritma : Naive Bayes\n",
      "Features  : ['Column5', 'Column1', 'Column3', 'Column4', 'Column10', 'Column8', 'Column7', 'Column9', 'Column11', 'Column14']\n",
      "akurasinya sebesar = 0.4262295081967213\n",
      "akurasinya sebesar = 0.5737704918032787\n",
      "akurasinya sebesar = 0.5901639344262295\n",
      "akurasinya sebesar = 0.45901639344262296\n",
      "akurasinya sebesar = 0.6885245901639344\n",
      "akurasinya sebesar = 0.6721311475409836\n",
      "akurasinya sebesar = 0.639344262295082\n",
      "akurasinya sebesar = 0.7540983606557377\n",
      "akurasinya sebesar = 0.6557377049180327\n",
      "akurasinya sebesar = 0.65\n",
      "\n",
      "Max Performance\n",
      "akurasinya sebesar = 0.7540983606557377\n"
     ]
    },
    {
     "data": {
      "text/plain": [
       "<matplotlib.axes._subplots.AxesSubplot at 0x168cce72128>"
      ]
     },
     "execution_count": 31,
     "metadata": {},
     "output_type": "execute_result"
    },
    {
     "data": {
      "image/png": "[encoded data removed]",
      "text/plain": [
       "<matplotlib.figure.Figure at 0x168cc858f60>"
      ]
     },
     "metadata": {},
     "output_type": "display_data"
    }
   ],
   "source": [
    "# Membuat KFold dengan k = 10\n",
    "kf = KFold(n_splits = 10, shuffle = True, random_state = 2)\n",
    "\n",
    "max_features = ['Column5', 'Column1', 'Column3', 'Column4', 'Column10', \n",
    "                'Column8', 'Column7', 'Column9', 'Column11'] + ['Column14']\n",
    "\n",
    "df_kfold = df_clean[max_features]\n",
    "acc3_max = 0\n",
    "train3_max = []\n",
    "test3_max = []\n",
    "\n",
    "print('Algoritma : Naive Bayes')\n",
    "print('Features  : ' + str(max_features))\n",
    "\n",
    "for train, test in kf.split(df_kfold) :\n",
    "    # membuat model\n",
    "    model = GaussianNB()\n",
    "    \n",
    "    # membagi data menjadi X dan y (test dan train)\n",
    "    df_train = df_kfold.iloc[train]\n",
    "    df_test = df_kfold.iloc[test]\n",
    "    X_train = df_train.drop(['Column14'], axis = 1)\n",
    "    y_train = df_train['Column14']\n",
    "    X_test = df_test.drop(['Column14'], axis = 1)\n",
    "    y_test = df_test['Column14']\n",
    "    \n",
    "    # melakukan pemodelan\n",
    "    model.fit(X_train, y_train)\n",
    "    y_pred = model.predict(X_test)\n",
    "    print('akurasinya sebesar = ' + str(accuracy_score(y_pred, y_test)))\n",
    "    \n",
    "    if (accuracy_score(y_pred, y_test) > acc3_max) :\n",
    "        acc3_max = accuracy_score(y_pred, y_test)\n",
    "        train3_max = train\n",
    "        test3_max = test\n",
    "        \n",
    "print()\n",
    "print('Max Performance')\n",
    "model = GaussianNB()\n",
    "df_train = df_kfold.iloc[train3_max]\n",
    "df_test = df_kfold.iloc[test3_max]\n",
    "X_train = df_train.drop(['Column14'], axis = 1)\n",
    "y_train = df_train['Column14']\n",
    "X_test = df_test.drop(['Column14'], axis = 1)\n",
    "y_test = df_test['Column14']\n",
    "\n",
    "# melakukan pemodelan\n",
    "model.fit(X_train, y_train)\n",
    "y_pred = model.predict(X_test)\n",
    "print('akurasinya sebesar = ' + str(accuracy_score(y_pred, y_test)))\n",
    "cm = confusion_matrix(y_test, y_pred)\n",
    "sns.heatmap(cm, annot=True, fmt=\"d\")"
   ]
  },
  {
   "cell_type": "markdown",
   "metadata": {},
   "source": [
    "Dipilih \n",
    "- Algoritma : Naive Bayes\n",
    "- feature : ['Column10', 'Column8', 'Column1', 'Column9', 'Column5', 'Column3', 'Column4', 'Column7', 'Column6', 'Column2', 'Column11']"
   ]
  },
  {
   "cell_type": "code",
   "execution_count": 32,
   "metadata": {},
   "outputs": [
    {
     "name": "stdout",
     "output_type": "stream",
     "text": [
      "akurasinya sebesar = 0.7868852459016393\n"
     ]
    },
    {
     "data": {
      "text/plain": [
       "<matplotlib.axes._subplots.AxesSubplot at 0x168cc803550>"
      ]
     },
     "execution_count": 32,
     "metadata": {},
     "output_type": "execute_result"
    },
    {
     "data": {
      "image/png": "[encoded data removed]",
      "text/plain": [
       "<matplotlib.figure.Figure at 0x168cc6e3780>"
      ]
     },
     "metadata": {},
     "output_type": "display_data"
    }
   ],
   "source": [
    "# final model\n",
    "max_features = ['Column10', 'Column8', 'Column1', 'Column9', 'Column5', 'Column3', \n",
    "                'Column4', 'Column7', 'Column6', 'Column2', 'Column11'] + ['Column14']\n",
    "\n",
    "model = GaussianNB()\n",
    "\n",
    "df_train = df_clean[max_features].iloc[train2_max]\n",
    "df_test = df_clean[max_features].iloc[test2_max]\n",
    "X_train = df_train.drop(['Column14'], axis = 1)\n",
    "y_train = df_train['Column14']\n",
    "X_test = df_test.drop(['Column14'], axis = 1)\n",
    "y_test = df_test['Column14']\n",
    "\n",
    "# melakukan pemodelan\n",
    "model.fit(X_train, y_train)\n",
    "y_pred = model.predict(X_test)\n",
    "print('akurasinya sebesar = ' + str(accuracy_score(y_pred, y_test)))\n",
    "cm = confusion_matrix(y_test, y_pred)\n",
    "sns.heatmap(cm, annot=True, fmt=\"d\")"
   ]
  },
  {
   "cell_type": "markdown",
   "metadata": {},
   "source": [
    "#### Menyimpan model"
   ]
  },
  {
   "cell_type": "code",
   "execution_count": 34,
   "metadata": {},
   "outputs": [
    {
     "data": {
      "text/plain": [
       "['gnb_model2.sav']"
      ]
     },
     "execution_count": 34,
     "metadata": {},
     "output_type": "execute_result"
    }
   ],
   "source": [
    "# menyimpan model\n",
    "filename_gnb = 'gnb_model2.sav'\n",
    "\n",
    "joblib.dump(model, filename_gnb)"
   ]
  },
  {
   "cell_type": "markdown",
   "metadata": {},
   "source": [
    "#### Memprediksi data test"
   ]
  },
  {
   "cell_type": "code",
   "execution_count": 35,
   "metadata": {},
   "outputs": [],
   "source": [
    "# Membuka file test\n",
    "df_test = pd.read_csv('tubes2_HeartDisease_test.csv')"
   ]
  },
  {
   "cell_type": "code",
   "execution_count": 36,
   "metadata": {},
   "outputs": [
    {
     "data": {
      "text/html": [
       "<div>\n",
       "<style scoped>\n",
       "    .dataframe tbody tr th:only-of-type {\n",
       "        vertical-align: middle;\n",
       "    }\n",
       "\n",
       "    .dataframe tbody tr th {\n",
       "        vertical-align: top;\n",
       "    }\n",
       "\n",
       "    .dataframe thead th {\n",
       "        text-align: right;\n",
       "    }\n",
       "</style>\n",
       "<table border=\"1\" class=\"dataframe\">\n",
       "  <thead>\n",
       "    <tr style=\"text-align: right;\">\n",
       "      <th></th>\n",
       "      <th>Column1</th>\n",
       "      <th>Column2</th>\n",
       "      <th>Column3</th>\n",
       "      <th>Column4</th>\n",
       "      <th>Column5</th>\n",
       "      <th>Column6</th>\n",
       "      <th>Column7</th>\n",
       "      <th>Column8</th>\n",
       "      <th>Column9</th>\n",
       "      <th>Column10</th>\n",
       "      <th>Column11</th>\n",
       "      <th>Column12</th>\n",
       "      <th>Column13</th>\n",
       "    </tr>\n",
       "  </thead>\n",
       "  <tbody>\n",
       "    <tr>\n",
       "      <th>0</th>\n",
       "      <td>60</td>\n",
       "      <td>1</td>\n",
       "      <td>2</td>\n",
       "      <td>160</td>\n",
       "      <td>267</td>\n",
       "      <td>1</td>\n",
       "      <td>1</td>\n",
       "      <td>157</td>\n",
       "      <td>0</td>\n",
       "      <td>0.5</td>\n",
       "      <td>2</td>\n",
       "      <td>?</td>\n",
       "      <td>?</td>\n",
       "    </tr>\n",
       "    <tr>\n",
       "      <th>1</th>\n",
       "      <td>61</td>\n",
       "      <td>1</td>\n",
       "      <td>4</td>\n",
       "      <td>148</td>\n",
       "      <td>203</td>\n",
       "      <td>0</td>\n",
       "      <td>0</td>\n",
       "      <td>161</td>\n",
       "      <td>0</td>\n",
       "      <td>0</td>\n",
       "      <td>1</td>\n",
       "      <td>1</td>\n",
       "      <td>7</td>\n",
       "    </tr>\n",
       "    <tr>\n",
       "      <th>2</th>\n",
       "      <td>54</td>\n",
       "      <td>1</td>\n",
       "      <td>4</td>\n",
       "      <td>130</td>\n",
       "      <td>242</td>\n",
       "      <td>0</td>\n",
       "      <td>0</td>\n",
       "      <td>91</td>\n",
       "      <td>1</td>\n",
       "      <td>1</td>\n",
       "      <td>2</td>\n",
       "      <td>?</td>\n",
       "      <td>?</td>\n",
       "    </tr>\n",
       "    <tr>\n",
       "      <th>3</th>\n",
       "      <td>48</td>\n",
       "      <td>1</td>\n",
       "      <td>4</td>\n",
       "      <td>120</td>\n",
       "      <td>260</td>\n",
       "      <td>0</td>\n",
       "      <td>0</td>\n",
       "      <td>115</td>\n",
       "      <td>0</td>\n",
       "      <td>2</td>\n",
       "      <td>2</td>\n",
       "      <td>?</td>\n",
       "      <td>?</td>\n",
       "    </tr>\n",
       "    <tr>\n",
       "      <th>4</th>\n",
       "      <td>57</td>\n",
       "      <td>0</td>\n",
       "      <td>1</td>\n",
       "      <td>130</td>\n",
       "      <td>308</td>\n",
       "      <td>0</td>\n",
       "      <td>0</td>\n",
       "      <td>98</td>\n",
       "      <td>0</td>\n",
       "      <td>1</td>\n",
       "      <td>2</td>\n",
       "      <td>?</td>\n",
       "      <td>?</td>\n",
       "    </tr>\n",
       "  </tbody>\n",
       "</table>\n",
       "</div>"
      ],
      "text/plain": [
       "   Column1  Column2  Column3 Column4 Column5 Column6  Column7 Column8 Column9  \\\n",
       "0       60        1        2     160     267       1        1     157       0   \n",
       "1       61        1        4     148     203       0        0     161       0   \n",
       "2       54        1        4     130     242       0        0      91       1   \n",
       "3       48        1        4     120     260       0        0     115       0   \n",
       "4       57        0        1     130     308       0        0      98       0   \n",
       "\n",
       "  Column10 Column11 Column12 Column13  \n",
       "0      0.5        2        ?        ?  \n",
       "1        0        1        1        7  \n",
       "2        1        2        ?        ?  \n",
       "3        2        2        ?        ?  \n",
       "4        1        2        ?        ?  "
      ]
     },
     "execution_count": 36,
     "metadata": {},
     "output_type": "execute_result"
    }
   ],
   "source": [
    "df_test.head()"
   ]
  },
  {
   "cell_type": "markdown",
   "metadata": {},
   "source": [
    "Melakukan cleaning data sesuai dengan data train"
   ]
  },
  {
   "cell_type": "code",
   "execution_count": 37,
   "metadata": {},
   "outputs": [],
   "source": [
    "# mengganti '?' ke NaN\n",
    "df_test = df_test.replace('?', np.nan)"
   ]
  },
  {
   "cell_type": "code",
   "execution_count": 38,
   "metadata": {},
   "outputs": [
    {
     "data": {
      "text/plain": [
       "Column1      0\n",
       "Column2      0\n",
       "Column3      0\n",
       "Column4     12\n",
       "Column5      6\n",
       "Column6     12\n",
       "Column7      0\n",
       "Column8     11\n",
       "Column9     11\n",
       "Column10    13\n",
       "Column11    47\n",
       "Column12    97\n",
       "Column13    78\n",
       "dtype: int64"
      ]
     },
     "execution_count": 38,
     "metadata": {},
     "output_type": "execute_result"
    }
   ],
   "source": [
    "df_test.isnull().sum()"
   ]
  },
  {
   "cell_type": "code",
   "execution_count": 39,
   "metadata": {},
   "outputs": [],
   "source": [
    "# drop Column12 dan Column13\n",
    "df_test = df_test.drop(columns=['Column12', 'Column13'])"
   ]
  },
  {
   "cell_type": "code",
   "execution_count": 40,
   "metadata": {},
   "outputs": [],
   "source": [
    "# mengganti type dari object ke numeric\n",
    "object_type = ['Column4','Column5','Column6','Column7','Column8','Column9','Column10','Column11']\n",
    "df_test[object_type] = df_test[object_type].apply(pd.to_numeric, downcast='float', errors='coerce', axis=1)"
   ]
  },
  {
   "cell_type": "code",
   "execution_count": 41,
   "metadata": {},
   "outputs": [],
   "source": [
    "median_type = ['Column4', 'Column5', 'Column8']\n",
    "mode_type = ['Column6', 'Column7', 'Column9', 'Column11']\n",
    "mean_type = ['Column10']\n",
    "\n",
    "for feature in median_type :\n",
    "    df_test[feature] = df_test[feature].fillna(default_value[feature])\n",
    "    \n",
    "for feature in mode_type :\n",
    "    df_test[feature] = df_test[feature].fillna(default_value[feature])\n",
    "    \n",
    "for feature in mean_type :\n",
    "    df_test[feature] = df_test[feature].fillna(default_value[feature])"
   ]
  },
  {
   "cell_type": "code",
   "execution_count": 42,
   "metadata": {},
   "outputs": [
    {
     "data": {
      "text/plain": [
       "Column1     0\n",
       "Column2     0\n",
       "Column3     0\n",
       "Column4     0\n",
       "Column5     0\n",
       "Column6     0\n",
       "Column7     0\n",
       "Column8     0\n",
       "Column9     0\n",
       "Column10    0\n",
       "Column11    0\n",
       "dtype: int64"
      ]
     },
     "execution_count": 42,
     "metadata": {},
     "output_type": "execute_result"
    }
   ],
   "source": [
    "df_test.isnull().sum()"
   ]
  },
  {
   "cell_type": "code",
   "execution_count": 43,
   "metadata": {},
   "outputs": [],
   "source": [
    "# mengganti type sesuai dengan yang seharusnya\n",
    "float_type = ['Column10']\n",
    "int_type = ['Column4','Column5','Column6','Column7','Column8','Column9','Column11']\n",
    "\n",
    "df_test[float_type] = df_test[float_type].astype(float)\n",
    "df_test[int_type] = df_test[int_type].astype(int)"
   ]
  },
  {
   "cell_type": "code",
   "execution_count": 44,
   "metadata": {},
   "outputs": [],
   "source": [
    "# Memanggil model yang telah disimpan\n",
    "model_load = joblib.load(filename_gnb)"
   ]
  },
  {
   "cell_type": "code",
   "execution_count": 45,
   "metadata": {},
   "outputs": [
    {
     "name": "stdout",
     "output_type": "stream",
     "text": [
      "Features :\n",
      "['Column10', 'Column8', 'Column1', 'Column9', 'Column5', 'Column3', 'Column4', 'Column7', 'Column6', 'Column2', 'Column11', 'Column14']\n"
     ]
    }
   ],
   "source": [
    "print(\"Features :\")\n",
    "print(max_features)\n",
    "\n",
    "try:\n",
    "    max_features.remove('Column14')\n",
    "except ValueError:\n",
    "    pass  # do nothing!\n",
    "\n",
    "X_test = df_test[max_features]\n",
    "y_test_pred = model.predict(X_test)"
   ]
  },
  {
   "cell_type": "markdown",
   "metadata": {},
   "source": [
    "#### Hasil Prediksi"
   ]
  },
  {
   "cell_type": "code",
   "execution_count": 46,
   "metadata": {},
   "outputs": [
    {
     "name": "stdout",
     "output_type": "stream",
     "text": [
      "Hasil Prediksi\n",
      "[0 0 1 1 0 0 2 1 0 4 1 1 0 0 0 2 1 0 0 0 0 1 0 2 0 0 1 2 3 0 0 1 4 0 1 0 0\n",
      " 0 0 0 1 0 0 1 1 1 1 4 1 1 1 0 2 2 0 1 0 1 1 0 0 0 1 2 0 0 1 0 0 0 1 0 0 0\n",
      " 0 0 0 1 0 0 0 2 1 1 0 2 1 0 3 1 1 0 0 1 0 0 0 1 1 0 2 0 0 0 2 0 0 0 1 4 0\n",
      " 0 3 0 0 2 0 3 0 2 2 1 0 1 1 0 0 2 3 0 0 1 4 0 2 3 0 0 0 0 0]\n"
     ]
    }
   ],
   "source": [
    "print(\"Hasil Prediksi\")\n",
    "print(y_test_pred)"
   ]
  },
  {
   "cell_type": "code",
   "execution_count": 48,
   "metadata": {},
   "outputs": [
    {
     "data": {
      "text/plain": [
       "{'class_count_': array([287., 149.,  50.,  47.,  15.]),\n",
       " 'class_prior_': array([0.52372263, 0.27189781, 0.09124088, 0.08576642, 0.02737226]),\n",
       " 'classes_': array([0, 1, 2, 3, 4], dtype=int64),\n",
       " 'priors': None,\n",
       " 'sigma_': array([[2.21651887e+01, 4.97057682e+02, 8.45101946e+01, 1.17425451e-01,\n",
       "         2.53160668e+03, 7.99502446e-01, 2.46085569e+02, 6.78340359e-01,\n",
       "         9.63495610e-02, 2.30089196e-01, 2.54418738e-01],\n",
       "        [4.97650839e+01, 4.98467909e+02, 7.34010206e+01, 2.41793545e-01,\n",
       "         2.78187361e+03, 6.13578599e-01, 2.84589886e+02, 6.19884622e-01,\n",
       "         1.35131683e-01, 1.11258884e-01, 1.38825210e-01],\n",
       "        [8.04035857e+01, 4.09150403e+02, 5.44400026e+01, 2.24402634e-01,\n",
       "         2.32174560e+03, 3.31602634e-01, 2.24611603e+02, 7.13602634e-01,\n",
       "         2.01602634e-01, 5.64026344e-02, 2.38402634e-01],\n",
       "        [6.46579498e+01, 4.76727934e+02, 6.67958379e+01, 2.30876333e-01,\n",
       "         2.63330467e+03, 5.64964155e-01, 2.61166141e+02, 6.98056052e-01,\n",
       "         2.17295527e-01, 7.78659209e-02, 2.72524137e-01],\n",
       "        [8.27905606e+01, 4.74506669e+02, 5.12000026e+01, 2.48891523e-01,\n",
       "         3.09166222e+03, 1.60002634e-01, 3.07128892e+02, 7.28891523e-01,\n",
       "         1.60002634e-01, 1.15558190e-01, 3.28891523e-01]]),\n",
       " 'theta_': array([[2.37042285e+00, 1.50526132e+02, 5.04320557e+01, 1.35888502e-01,\n",
       "         2.39595819e+02, 2.79094077e+00, 1.30149826e+02, 5.60975610e-01,\n",
       "         1.08013937e-01, 6.41114983e-01, 1.69337979e+00],\n",
       "        [4.83875143e+00, 1.33275168e+02, 5.31476510e+01, 5.90604027e-01,\n",
       "         2.51523490e+02, 3.61073826e+00, 1.33026846e+02, 5.77181208e-01,\n",
       "         1.61073826e-01, 8.72483221e-01, 1.90604027e+00],\n",
       "        [7.19949585e+00, 1.29360000e+02, 5.96000000e+01, 6.60000000e-01,\n",
       "         2.47880000e+02, 3.78000000e+00, 1.35780000e+02, 9.20000000e-01,\n",
       "         2.80000000e-01, 9.40000000e-01, 2.04000000e+00],\n",
       "        [6.32976958e+00, 1.30319149e+02, 5.97234043e+01, 6.38297872e-01,\n",
       "         2.49404255e+02, 3.65957447e+00, 1.36063830e+02, 9.36170213e-01,\n",
       "         3.19148936e-01, 9.14893617e-01, 1.93617021e+00],\n",
       "        [7.79165284e+00, 1.30600000e+02, 6.30000000e+01, 4.66666667e-01,\n",
       "         2.49733333e+02, 3.80000000e+00, 1.40066667e+02, 1.26666667e+00,\n",
       "         2.00000000e-01, 8.66666667e-01, 2.26666667e+00]])}"
      ]
     },
     "execution_count": 48,
     "metadata": {},
     "output_type": "execute_result"
    }
   ],
   "source": [
    "model.__dict__"
   ]
  },
  {
   "cell_type": "code",
   "execution_count": 50,
   "metadata": {},
   "outputs": [
    {
     "ename": "ValueError",
     "evalue": "Invalid file path or buffer object type: <class 'dict'>",
     "output_type": "error",
     "traceback": [
      "\u001b[1;31m---------------------------------------------------------------------------\u001b[0m",
      "\u001b[1;31mValueError\u001b[0m                                Traceback (most recent call last)",
      "\u001b[1;32m<ipython-input-50-598d163e0da8>\u001b[0m in \u001b[0;36m<module>\u001b[1;34m()\u001b[0m\n\u001b[0;32m      1\u001b[0m \u001b[0mdata_json\u001b[0m \u001b[1;33m=\u001b[0m \u001b[1;33m{\u001b[0m\u001b[1;34m\"0\"\u001b[0m\u001b[1;33m:\u001b[0m \u001b[1;33m{\u001b[0m\u001b[1;34m\"Column1\"\u001b[0m\u001b[1;33m:\u001b[0m \u001b[1;36m67\u001b[0m\u001b[1;33m,\u001b[0m \u001b[1;34m\"Column2\"\u001b[0m\u001b[1;33m:\u001b[0m \u001b[1;36m0\u001b[0m\u001b[1;33m,\u001b[0m \u001b[1;34m\"Column3\"\u001b[0m\u001b[1;33m:\u001b[0m \u001b[1;36m3\u001b[0m\u001b[1;33m,\u001b[0m \u001b[1;34m\"Column4\"\u001b[0m\u001b[1;33m:\u001b[0m \u001b[1;36m115\u001b[0m\u001b[1;33m,\u001b[0m \u001b[1;34m\"Column5\"\u001b[0m\u001b[1;33m:\u001b[0m \u001b[1;36m564\u001b[0m\u001b[1;33m,\u001b[0m \u001b[1;34m\"Column6\"\u001b[0m\u001b[1;33m:\u001b[0m \u001b[1;36m0\u001b[0m\u001b[1;33m,\u001b[0m \u001b[1;34m\"Column7\"\u001b[0m\u001b[1;33m:\u001b[0m \u001b[1;36m2\u001b[0m\u001b[1;33m,\u001b[0m \u001b[1;34m\"Column8\"\u001b[0m\u001b[1;33m:\u001b[0m \u001b[1;36m160\u001b[0m\u001b[1;33m,\u001b[0m \u001b[1;34m\"Column9\"\u001b[0m\u001b[1;33m:\u001b[0m \u001b[1;36m0\u001b[0m\u001b[1;33m,\u001b[0m \u001b[1;34m\"Column10\"\u001b[0m\u001b[1;33m:\u001b[0m \u001b[1;36m16\u001b[0m\u001b[1;33m,\u001b[0m \u001b[1;34m\"Column11\"\u001b[0m\u001b[1;33m:\u001b[0m \u001b[1;36m2\u001b[0m\u001b[1;33m,\u001b[0m \u001b[1;34m\"Column12\"\u001b[0m\u001b[1;33m:\u001b[0m \u001b[1;36m0\u001b[0m\u001b[1;33m,\u001b[0m \u001b[1;34m\"Column13\"\u001b[0m\u001b[1;33m:\u001b[0m \u001b[1;36m6\u001b[0m\u001b[1;33m}\u001b[0m\u001b[1;33m}\u001b[0m\u001b[1;33m\u001b[0m\u001b[0m\n\u001b[0;32m      2\u001b[0m \u001b[1;33m\u001b[0m\u001b[0m\n\u001b[1;32m----> 3\u001b[1;33m \u001b[0mdf_2\u001b[0m \u001b[1;33m=\u001b[0m \u001b[0mpd\u001b[0m\u001b[1;33m.\u001b[0m\u001b[0mread_json\u001b[0m\u001b[1;33m(\u001b[0m\u001b[0mdata_json\u001b[0m\u001b[1;33m,\u001b[0m \u001b[0morient\u001b[0m\u001b[1;33m=\u001b[0m\u001b[1;34m\"index\"\u001b[0m\u001b[1;33m)\u001b[0m\u001b[1;33m\u001b[0m\u001b[0m\n\u001b[0m",
      "\u001b[1;32m~\\Anaconda3\\lib\\site-packages\\pandas\\io\\json\\json.py\u001b[0m in \u001b[0;36mread_json\u001b[1;34m(path_or_buf, orient, typ, dtype, convert_axes, convert_dates, keep_default_dates, numpy, precise_float, date_unit, encoding, lines, chunksize, compression)\u001b[0m\n\u001b[0;32m    350\u001b[0m     \u001b[0mcompression\u001b[0m \u001b[1;33m=\u001b[0m \u001b[0m_infer_compression\u001b[0m\u001b[1;33m(\u001b[0m\u001b[0mpath_or_buf\u001b[0m\u001b[1;33m,\u001b[0m \u001b[0mcompression\u001b[0m\u001b[1;33m)\u001b[0m\u001b[1;33m\u001b[0m\u001b[0m\n\u001b[0;32m    351\u001b[0m     filepath_or_buffer, _, compression = get_filepath_or_buffer(\n\u001b[1;32m--> 352\u001b[1;33m         \u001b[0mpath_or_buf\u001b[0m\u001b[1;33m,\u001b[0m \u001b[0mencoding\u001b[0m\u001b[1;33m=\u001b[0m\u001b[0mencoding\u001b[0m\u001b[1;33m,\u001b[0m \u001b[0mcompression\u001b[0m\u001b[1;33m=\u001b[0m\u001b[0mcompression\u001b[0m\u001b[1;33m,\u001b[0m\u001b[1;33m\u001b[0m\u001b[0m\n\u001b[0m\u001b[0;32m    353\u001b[0m     )\n\u001b[0;32m    354\u001b[0m \u001b[1;33m\u001b[0m\u001b[0m\n",
      "\u001b[1;32m~\\Anaconda3\\lib\\site-packages\\pandas\\io\\common.py\u001b[0m in \u001b[0;36mget_filepath_or_buffer\u001b[1;34m(filepath_or_buffer, encoding, compression)\u001b[0m\n\u001b[0;32m    209\u001b[0m     \u001b[1;32mif\u001b[0m \u001b[1;32mnot\u001b[0m \u001b[0mis_file_like\u001b[0m\u001b[1;33m(\u001b[0m\u001b[0mfilepath_or_buffer\u001b[0m\u001b[1;33m)\u001b[0m\u001b[1;33m:\u001b[0m\u001b[1;33m\u001b[0m\u001b[0m\n\u001b[0;32m    210\u001b[0m         \u001b[0mmsg\u001b[0m \u001b[1;33m=\u001b[0m \u001b[1;34m\"Invalid file path or buffer object type: {_type}\"\u001b[0m\u001b[1;33m\u001b[0m\u001b[0m\n\u001b[1;32m--> 211\u001b[1;33m         \u001b[1;32mraise\u001b[0m \u001b[0mValueError\u001b[0m\u001b[1;33m(\u001b[0m\u001b[0mmsg\u001b[0m\u001b[1;33m.\u001b[0m\u001b[0mformat\u001b[0m\u001b[1;33m(\u001b[0m\u001b[0m_type\u001b[0m\u001b[1;33m=\u001b[0m\u001b[0mtype\u001b[0m\u001b[1;33m(\u001b[0m\u001b[0mfilepath_or_buffer\u001b[0m\u001b[1;33m)\u001b[0m\u001b[1;33m)\u001b[0m\u001b[1;33m)\u001b[0m\u001b[1;33m\u001b[0m\u001b[0m\n\u001b[0m\u001b[0;32m    212\u001b[0m \u001b[1;33m\u001b[0m\u001b[0m\n\u001b[0;32m    213\u001b[0m     \u001b[1;32mreturn\u001b[0m \u001b[0mfilepath_or_buffer\u001b[0m\u001b[1;33m,\u001b[0m \u001b[1;32mNone\u001b[0m\u001b[1;33m,\u001b[0m \u001b[0mcompression\u001b[0m\u001b[1;33m\u001b[0m\u001b[0m\n",
      "\u001b[1;31mValueError\u001b[0m: Invalid file path or buffer object type: <class 'dict'>"
     ]
    }
   ],
   "source": [
    "data_json = {\"0\": {\"Column1\": 67, \"Column2\": 0, \"Column3\": 3, \"Column4\": 115, \"Column5\": 564, \"Column6\": 0, \"Column7\": 2, \"Column8\": 160, \"Column9\": 0, \"Column10\": 16, \"Column11\": 2, \"Column12\": 0, \"Column13\": 6}}\n",
    "data_json2 = json.dumps(data_json)\n",
    "df_2 = pd.read_json(data_json, orient=\"index\")"
   ]
  },
  {
   "cell_type": "code",
   "execution_count": null,
   "metadata": {},
   "outputs": [],
   "source": []
  }
 ],
 "metadata": {
  "kernelspec": {
   "display_name": "Python 3",
   "language": "python",
   "name": "python3"
  },
  "language_info": {
   "codemirror_mode": {
    "name": "ipython",
    "version": 3
   },
   "file_extension": ".py",
   "mimetype": "text/x-python",
   "name": "python",
   "nbconvert_exporter": "python",
   "pygments_lexer": "ipython3",
   "version": "3.6.4"
  }
 },
 "nbformat": 4,
 "nbformat_minor": 2
}
